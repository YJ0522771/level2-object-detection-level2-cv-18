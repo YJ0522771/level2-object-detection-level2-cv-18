{
 "cells": [
  {
   "cell_type": "code",
   "execution_count": 42,
   "metadata": {},
   "outputs": [
    {
     "name": "stdout",
     "output_type": "stream",
     "text": [
      "{'width': 1024, 'height': 1024, 'file_name': 'train_aug/9500.jpg', 'license': 0, 'flickr_url': None, 'coco_url': None, 'date_captured': '2020-12-26 14:44:23', 'id': 9500}\n",
      "{'image_id': 9500, 'category_id': 0, 'area': 367397.36, 'bbox': [193.3, 209.2, 576.4000000000001, 637.3999999999999], 'iscrowd': 0, 'id': 39709}\n"
     ]
    }
   ],
   "source": [
    "import numpy as np\n",
    "import pandas as pd\n",
    "import cv2\n",
    "import os\n",
    "import json\n",
    "\n",
    "from PIL import Image\n",
    "# class 별 bbox 색\n",
    "\n",
    "img_dir = './dataset'\n",
    "output_dir = './best_output.csv'\n",
    "with open(\"./dataset/train_aug_correct.json\", \"r\") as json_file:\n",
    "    aug_json = json.load(json_file)\n",
    "# def createFolder(directory):\n",
    "#     if not os.path.exists(directory):\n",
    "#         os.makedirs(directory)\n",
    "# createFolder('./dataset/train_seudo')\n",
    "\n",
    "print(aug_json['images'][-1])\n",
    "print(aug_json['annotations'][-1])\n",
    "\n"
   ]
  },
  {
   "cell_type": "code",
   "execution_count": 43,
   "metadata": {},
   "outputs": [],
   "source": [
    "test_result = pd.read_csv(output_dir)\n",
    "\n",
    "file_names = test_result['image_id'].values.tolist()\n",
    "bboxes = test_result['PredictionString'].values.tolist()\n",
    "seudo_list=[]\n",
    "    \n",
    "img_list = []\n",
    "ann_list = []\n",
    "img_id = 9500\n",
    "data_id = 39709\n",
    "name_space=10000\n",
    "images_frame = aug_json['images'][-1]\n",
    "for idx in range(4871):\n",
    "    file_name = file_names[idx]\n",
    "    bbox = bboxes[idx].split()\n",
    "    tmp_data=[]\n",
    "    test_score = 0\n",
    "    test_n = 0\n",
    "    \n",
    "    for i in range(0, len(bbox), 6):\n",
    "        label = int(bbox[i])\n",
    "        score = float(bbox[i + 1])\n",
    "        x_min = float(bbox[i + 2].split('.')[0])\n",
    "        y_min = float(bbox[i + 3].split('.')[0])\n",
    "        x_max = float(bbox[i + 4].split('.')[0])\n",
    "        y_max = float(bbox[i + 5].split('.')[0])\n",
    "        if float(bbox[i+1])>0.1:\n",
    "            test_score+=float(score)\n",
    "            test_n+=1\n",
    "            tmp_data.append([label,x_min,y_min,x_max-x_min,y_max-y_min])\n",
    "\n",
    "    if test_n==0:\n",
    "        continue\n",
    "    if test_score/test_n>0.8:\n",
    "        img_id+=1\n",
    "        tmp_data2 = images_frame.copy()\n",
    "        tmp_data2['file_name'] = tmp_data2['file_name'][:10]+str(img_id)+\".jpg\"\n",
    "        tmp_data2['id'] = img_id\n",
    "        dir=f'./dataset/test/{str(name_space+idx)[1:]}.jpg'\n",
    "        tmp_img_data = np.array(Image.open(dir))\n",
    "        im = Image.fromarray(tmp_img_data)\n",
    "        im.save(f'./dataset/train_aug/{str(img_id)}.jpg')\n",
    "        img_list.append(tmp_data2)\n",
    "        for data in tmp_data:\n",
    "            data_id+=1\n",
    "            tmp_data3 = {\n",
    "            \"image_id\": img_id,\n",
    "            \"category_id\": data[0],\n",
    "            \"area\": data[3]*data[4],\n",
    "            \"bbox\": [data[1],data[2],data[3],data[4]],\n",
    "            \"iscrowd\": 0,\n",
    "            \"id\": data_id\n",
    "            }\n",
    "            ann_list.append(tmp_data3)"
   ]
  },
  {
   "cell_type": "code",
   "execution_count": 71,
   "metadata": {},
   "outputs": [
    {
     "name": "stdout",
     "output_type": "stream",
     "text": [
      "{'width': 1024, 'height': 1024, 'file_name': 'train_aug/10723.jpg', 'license': 0, 'flickr_url': None, 'coco_url': None, 'date_captured': '2020-12-26 14:44:23', 'id': 10723}\n",
      "{'image_id': 9511, 'category_id': 7, 'area': 93852.0, 'bbox': [240.0, 479.0, 316.0, 297.0], 'iscrowd': 0, 'id': 39724}\n"
     ]
    }
   ],
   "source": [
    "print(img_list[-1])\n",
    "print(ann_list[14])"
   ]
  },
  {
   "cell_type": "code",
   "execution_count": 72,
   "metadata": {},
   "outputs": [],
   "source": [
    "aug_json['images']+=img_list.copy()\n",
    "aug_json['annotations']+=ann_list.copy()"
   ]
  },
  {
   "cell_type": "code",
   "execution_count": 105,
   "metadata": {},
   "outputs": [
    {
     "name": "stdout",
     "output_type": "stream",
     "text": [
      "{'image_id': 10703, 'category_id': 7, 'area': 128152.0, 'bbox': [538.0, 274.0, 332.0, 386.0], 'iscrowd': 0, 'id': 41391}\n",
      "1223\n"
     ]
    }
   ],
   "source": [
    "print(aug_json['annotations'][-25])\n",
    "print(len(img_list))"
   ]
  },
  {
   "cell_type": "code",
   "execution_count": 73,
   "metadata": {},
   "outputs": [],
   "source": [
    "\n",
    "with open('./dataset/train_seudo.json', 'w') as outfile:\n",
    "    json.dump(aug_json, outfile)"
   ]
  },
  {
   "cell_type": "code",
   "execution_count": null,
   "metadata": {},
   "outputs": [],
   "source": []
  }
 ],
 "metadata": {
  "interpreter": {
   "hash": "b94c6de4bce9a87a354a5fa9998691adc0532adddb9d4140f5ba941d00b01fae"
  },
  "kernelspec": {
   "display_name": "detection",
   "language": "python",
   "name": "detection"
  },
  "language_info": {
   "codemirror_mode": {
    "name": "ipython",
    "version": 3
   },
   "file_extension": ".py",
   "mimetype": "text/x-python",
   "name": "python",
   "nbconvert_exporter": "python",
   "pygments_lexer": "ipython3",
   "version": "3.7.11"
  },
  "orig_nbformat": 4
 },
 "nbformat": 4,
 "nbformat_minor": 2
}
