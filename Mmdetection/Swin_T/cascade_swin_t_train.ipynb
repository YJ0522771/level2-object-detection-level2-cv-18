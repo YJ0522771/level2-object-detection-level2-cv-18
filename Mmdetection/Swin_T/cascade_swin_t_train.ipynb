{
 "cells": [
  {
   "cell_type": "code",
   "execution_count": 1,
   "metadata": {},
   "outputs": [],
   "source": [
    "# 모듈 import\n",
    "from mmcv import Config\n",
    "from mmdet.datasets import build_dataset\n",
    "from mmdet.models import build_detector\n",
    "from mmdet.apis import train_detector\n",
    "from mmdet.datasets import (build_dataloader, build_dataset,\n",
    "                            replace_ImageToTensor)\n",
    "import wandb\n",
    "import copy"
   ]
  },
  {
   "cell_type": "code",
   "execution_count": 2,
   "metadata": {},
   "outputs": [],
   "source": [
    "import torch\n",
    "torch.cuda.empty_cache()"
   ]
  },
  {
   "cell_type": "code",
   "execution_count": 3,
   "metadata": {},
   "outputs": [],
   "source": [
    "# class name 정의\n",
    "classes = (\"General trash\", \"Paper\", \"Paper pack\", \"Metal\", \"Glass\", \n",
    "           \"Plastic\", \"Styrofoam\", \"Plastic bag\", \"Battery\", \"Clothing\")\n",
    "\n",
    "model_name = 'cascade_swin_t'\n",
    "\n",
    "# config file 들고오기\n",
    "cfg = Config.fromfile('./_cascade_rcnn/cascade_swin_t_fpn_3x_coco.py')\n",
    "root='/opt/ml/detection/dataset/'\n",
    "\n",
    "# config 수정\n",
    "cfg.data.train.classes = classes\n",
    "cfg.data.train.img_prefix = root \n",
    "cfg.data.train.ann_file = './stratified_kfold/cv_train_1.json' \n",
    "\n",
    "\n",
    "cfg.data.val.classes = classes\n",
    "cfg.data.val.img_prefix = root\n",
    "cfg.data.val.ann_file = './stratified_kfold/cv_val_1.json' \n",
    "\n",
    "cfg.data.test.classes = classes\n",
    "cfg.data.test.img_prefix = root\n",
    "cfg.data.test.ann_file = root + 'test.json'\n",
    "\n",
    "cfg.data.samples_per_gpu = 6\n",
    "\n",
    "cfg.seed = 2021\n",
    "cfg.gpu_ids = [0]\n",
    "cfg.work_dir = './work_dirs/' + model_name\n",
    "\n",
    "cfg.optimizer_config.grad_clip = dict(max_norm=35, norm_type=2)\n",
    "cfg.checkpoint_config = dict(max_keep_ckpts=1, interval=1)"
   ]
  },
  {
   "cell_type": "code",
   "execution_count": 4,
   "metadata": {},
   "outputs": [
    {
     "name": "stdout",
     "output_type": "stream",
     "text": [
      "loading annotations into memory...\n",
      "Done (t=0.25s)\n",
      "creating index...\n",
      "index created!\n"
     ]
    },
    {
     "data": {
      "text/plain": [
       "[\n",
       " CocoDataset Train dataset with number of images 8673, and instance counts: \n",
       " +-------------------+-------+---------------+-------+-----------------+-------+-------------+-------+--------------+-------+\n",
       " | category          | count | category      | count | category        | count | category    | count | category     | count |\n",
       " +-------------------+-------+---------------+-------+-----------------+-------+-------------+-------+--------------+-------+\n",
       " | 0 [General trash] | 3737  | 1 [Paper]     | 5660  | 2 [Paper pack]  | 1070  | 3 [Metal]   | 1098  | 4 [Glass]    | 920   |\n",
       " | 5 [Plastic]       | 3044  | 6 [Styrofoam] | 1205  | 7 [Plastic bag] | 5779  | 8 [Battery] | 154   | 9 [Clothing] | 582   |\n",
       " +-------------------+-------+---------------+-------+-----------------+-------+-------------+-------+--------------+-------+]"
      ]
     },
     "execution_count": 4,
     "metadata": {},
     "output_type": "execute_result"
    }
   ],
   "source": [
    "# datasets\n",
    "datasets = [build_dataset(cfg.data.train)]\n",
    "datasets"
   ]
  },
  {
   "cell_type": "code",
   "execution_count": null,
   "metadata": {},
   "outputs": [],
   "source": [
    "# model\n",
    "model = build_detector(cfg.model)\n",
    "model.init_weights()"
   ]
  },
  {
   "cell_type": "code",
   "execution_count": null,
   "metadata": {
    "tags": []
   },
   "outputs": [],
   "source": [
    "# training\n",
    "train_detector(model, datasets, cfg, distributed=False, validate=True) "
   ]
  }
 ],
 "metadata": {
  "interpreter": {
   "hash": "980dec4bdc0f65d3f181e5891661df87e8769cde5e79cd54bc145a7f830b2685"
  },
  "kernelspec": {
   "display_name": "detection",
   "language": "python",
   "name": "detection"
  }
 },
 "nbformat": 4,
 "nbformat_minor": 4
}
