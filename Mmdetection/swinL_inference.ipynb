{
 "cells": [
  {
   "cell_type": "code",
   "execution_count": null,
   "metadata": {},
   "outputs": [],
   "source": [
    "import mmcv\n",
    "from mmcv import Config\n",
    "from mmdet.datasets import (build_dataloader, build_dataset, replace_ImageToTensor)\n",
    "from mmdet.models import build_detector\n",
    "from mmdet.apis import single_gpu_test\n",
    "from mmcv.runner import load_checkpoint\n",
    "import os\n",
    "from mmcv.parallel import MMDataParallel\n",
    "import pandas as pd\n",
    "from pandas import DataFrame\n",
    "from pycocotools.coco import COCO\n",
    "import numpy as np"
   ]
  },
  {
   "cell_type": "code",
   "execution_count": null,
   "metadata": {},
   "outputs": [],
   "source": [
    "classes = (\"General trash\", \"Paper\", \"Paper pack\", \"Metal\", \"Glass\", \n",
    "           \"Plastic\", \"Styrofoam\", \"Plastic bag\", \"Battery\", \"Clothing\")\n",
    "\n",
    "# config file 들고오기\n",
    "cfg = Config.fromfile('/opt/ml/detection/baseline/mmdetection/configs/object/trash.py')\n",
    "\n",
    "root='/opt/ml/detection/dataset/'\n",
    "\n",
    "epoch = 'best_bbox_mAP_50_epoch_1'\n",
    "\n",
    "# dataset config 수정\n",
    "cfg.data.test.classes = classes\n",
    "cfg.data.test.img_prefix = root\n",
    "cfg.data.test.ann_file = root + 'test.json'\n",
    "# cfg.data.test.pipeline[1]['img_scale'] = (512,512) # Resize\n",
    "cfg.data.test.test_mode = True\n",
    "cfg.work_dir = '/opt/ml/detection/baseline/mmdetection/work_dirs/swinL_final'\n",
    "\n",
    "# cfg.data.samples_per_gpu = 4\n",
    "\n",
    "cfg.seed=2021\n",
    "cfg.gpu_ids = [1]\n",
    "\n",
    "cfg.optimizer_config.grad_clip = dict(max_norm=35, norm_type=2)\n",
    "cfg.model.train_cfg = None"
   ]
  },
  {
   "cell_type": "code",
   "execution_count": null,
   "metadata": {},
   "outputs": [],
   "source": [
    "# build dataset & dataloader\n",
    "dataset = build_dataset(cfg.data.test)\n",
    "data_loader = build_dataloader(\n",
    "        dataset,\n",
    "        samples_per_gpu=1,\n",
    "        workers_per_gpu=cfg.data.workers_per_gpu,\n",
    "        dist=False,\n",
    "        shuffle=False)"
   ]
  },
  {
   "cell_type": "code",
   "execution_count": null,
   "metadata": {},
   "outputs": [],
   "source": [
    "checkpoint_path = os.path.join(cfg.work_dir, f'{epoch}.pth')\n",
    "\n",
    "model = build_detector(cfg.model, test_cfg=cfg.get('test_cfg')) # build detector\n",
    "checkpoint = load_checkpoint(model, checkpoint_path, map_location='cpu') # ckpt load\n",
    "\n",
    "model.CLASSES = dataset.CLASSES\n",
    "model = MMDataParallel(model.cuda(), device_ids=[0])"
   ]
  },
  {
   "cell_type": "code",
   "execution_count": null,
   "metadata": {},
   "outputs": [],
   "source": [
    "output = single_gpu_test(model, data_loader, show_score_thr=0.0001) # output 계산"
   ]
  },
  {
   "cell_type": "code",
   "execution_count": null,
   "metadata": {},
   "outputs": [],
   "source": [
    "prediction_strings = []\n",
    "file_names = []\n",
    "coco = COCO(cfg.data.test.ann_file)\n",
    "img_ids = coco.getImgIds()\n",
    "\n",
    "class_num = 10\n",
    "for i, out in enumerate(output):\n",
    "    prediction_string = ''\n",
    "    image_info = coco.loadImgs(coco.getImgIds(imgIds=i))[0]\n",
    "    for j in range(class_num):\n",
    "        for o in out[j]:\n",
    "            prediction_string += str(j) + ' ' + str(o[4]) + ' ' + str(o[0]) + ' ' + str(o[1]) + ' ' + str(\n",
    "                o[2]) + ' ' + str(o[3]) + ' '\n",
    "        \n",
    "    prediction_strings.append(prediction_string)\n",
    "    file_names.append(image_info['file_name'])\n",
    "\n",
    "\n",
    "submission = pd.DataFrame()\n",
    "submission['PredictionString'] = prediction_strings\n",
    "submission['image_id'] = file_names\n",
    "submission.to_csv(os.path.join(cfg.work_dir, f'submission_{epoch}.csv'), index=None)\n",
    "submission.head()"
   ]
  },
  {
   "cell_type": "markdown",
   "metadata": {},
   "source": [
    "## 박스 결과 확인"
   ]
  },
  {
   "cell_type": "code",
   "execution_count": null,
   "metadata": {},
   "outputs": [],
   "source": [
    "import numpy as np\n",
    "import pandas as pd\n",
    "import cv2\n",
    "import os\n",
    "import random\n",
    "import matplotlib.pyplot as plt\n",
    "\n",
    "# class 별 bbox 색\n",
    "colors = [\n",
    "    (255, 0, 0), \n",
    "    (0, 255, 0),\n",
    "    (0, 0, 255),\n",
    "    (127, 127, 0),\n",
    "    (127, 0, 127),\n",
    "    (0, 127, 127),\n",
    "    (200, 200, 200),\n",
    "    (50, 150, 200),\n",
    "    (200, 155, 50),\n",
    "    (130, 198, 20),\n",
    "]\n",
    "labels = {0: 'General trash', 1: 'Paper', 2: 'Paper pack', 3: 'Metal', 4: 'Glass', 5: 'Plastic', 6: 'Styrofoam', 7: 'Plastic bag', 8: 'Battery', 9: 'Clothing'}\n",
    "\n",
    "# 이미지 경로\n",
    "img_dir = '/opt/ml/detection/dataset/'\n",
    "# output 파일 경로\n",
    "output_dir = '/opt/ml/detection/baseline/mmdetection/work_dirs/swinL_final/submission_best_bbox_mAP_50_epoch_1.csv'\n",
    "# output_dir = '/opt/ml/detection/dataset/train.json'\n",
    "\n",
    "test_result = pd.read_csv(output_dir)\n",
    "\n",
    "file_names = test_result['image_id'].values.tolist()\n",
    "bboxes = test_result['PredictionString'].values.tolist()\n",
    "\n",
    "idx = 3\n",
    "# idx = 13\n",
    "file_name = file_names[idx]\n",
    "print(file_name)\n",
    "bbox = bboxes[idx].split()\n",
    "\n",
    "image = cv2.imread(os.path.join(img_dir, file_name)).astype(np.uint8)\n",
    "for i in range(0, len(bbox), 6):\n",
    "    label = int(bbox[i])\n",
    "    x_min = int(bbox[i + 2].split('.')[0])\n",
    "    y_min = int(bbox[i + 3].split('.')[0])\n",
    "    x_max = int(bbox[i + 4].split('.')[0])\n",
    "    y_max = int(bbox[i + 5].split('.')[0])\n",
    "    \n",
    "    # bounding box 그리기\n",
    "    image = cv2.rectangle(image, pt1=(x_min, y_min), pt2=(x_max, y_max), color=colors[label], thickness=5)\n",
    "    # label text 넣기\n",
    "    cv2.putText(image, labels[label], (x_min, y_min - 20), cv2.FONT_HERSHEY_SIMPLEX, 1, colors[label], 3)\n",
    "\n",
    "plt.figure(figsize=(10,10))\n",
    "plt.imshow(image)"
   ]
  }
 ],
 "metadata": {
  "interpreter": {
   "hash": "b2d617e4e4c71290b58af84e5aa30aeb780f45b049d7dc2bd64c8742d6fa340d"
  },
  "kernelspec": {
   "display_name": "Python 3.7.13 ('openmlab')",
   "language": "python",
   "name": "python3"
  },
  "language_info": {
   "codemirror_mode": {
    "name": "ipython",
    "version": 3
   },
   "file_extension": ".py",
   "mimetype": "text/x-python",
   "name": "python",
   "nbconvert_exporter": "python",
   "pygments_lexer": "ipython3",
   "version": "3.7.13"
  },
  "orig_nbformat": 4
 },
 "nbformat": 4,
 "nbformat_minor": 2
}
