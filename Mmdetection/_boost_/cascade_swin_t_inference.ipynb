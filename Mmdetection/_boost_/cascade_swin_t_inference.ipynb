{
 "cells": [
  {
   "cell_type": "code",
   "execution_count": 1,
   "id": "3fd75793",
   "metadata": {},
   "outputs": [],
   "source": [
    "import mmcv\n",
    "from mmcv import Config\n",
    "from mmdet.datasets import (build_dataloader, build_dataset,\n",
    "                            replace_ImageToTensor)\n",
    "from mmdet.models import build_detector\n",
    "from mmdet.apis import single_gpu_test\n",
    "from mmcv.runner import load_checkpoint\n",
    "import os\n",
    "from mmcv.parallel import MMDataParallel\n",
    "import pandas as pd\n",
    "from pandas import DataFrame\n",
    "from pycocotools.coco import COCO\n",
    "import numpy as np"
   ]
  },
  {
   "cell_type": "code",
   "execution_count": 6,
   "id": "7454a1fd-4555-47ed-ac48-b866d13b868b",
   "metadata": {},
   "outputs": [],
   "source": [
    "# class name 정의\n",
    "classes = (\"General trash\", \"Paper\", \"Paper pack\", \"Metal\", \"Glass\", \n",
    "           \"Plastic\", \"Styrofoam\", \"Plastic bag\", \"Battery\", \"Clothing\")\n",
    "\n",
    "model_name = 'pseudo_cascade_swin_t'\n",
    "\n",
    "# config file 들고오기\n",
    "cfg = Config.fromfile('./_cascade_rcnn/cascade_swin_t_fpn_3x_coco.py')\n",
    "root='/opt/ml/detection/dataset/'\n",
    "\n",
    "# 불러올 pth 파일 이름\n",
    "epoch = 'best_bbox_mAP_epoch_24'\n",
    "\n",
    "# config 수정\n",
    "cfg.data.test.classes = classes\n",
    "cfg.data.test.img_prefix = root\n",
    "cfg.data.test.ann_file = root + 'test.json'\n",
    "cfg.data.test.test_mode = True\n",
    "cfg.work_dir = './work_dirs/' + model_name\n",
    "\n",
    "\n",
    "cfg.seed=2021\n",
    "cfg.gpu_ids = [1]\n",
    "\n",
    "cfg.optimizer_config.grad_clip = dict(max_norm=35, norm_type=2)\n",
    "cfg.model.train_cfg = None"
   ]
  },
  {
   "cell_type": "code",
   "execution_count": 7,
   "id": "b086a8cf",
   "metadata": {},
   "outputs": [
    {
     "name": "stdout",
     "output_type": "stream",
     "text": [
      "loading annotations into memory...\n",
      "Done (t=0.14s)\n",
      "creating index...\n",
      "index created!\n"
     ]
    }
   ],
   "source": [
    "# build dataset & dataloader\n",
    "dataset = build_dataset(cfg.data.test)\n",
    "data_loader = build_dataloader(\n",
    "        dataset,\n",
    "        samples_per_gpu=1,\n",
    "        workers_per_gpu=cfg.data.workers_per_gpu,\n",
    "        dist=False,\n",
    "        shuffle=False)"
   ]
  },
  {
   "cell_type": "code",
   "execution_count": 8,
   "id": "eb4cfcc7-25be-4753-bd13-24bc14b119a9",
   "metadata": {},
   "outputs": [
    {
     "name": "stdout",
     "output_type": "stream",
     "text": [
      "load checkpoint from local path: ./work_dirs/pseudo_cascade_swin_t/best_bbox_mAP_epoch_24.pth\n"
     ]
    }
   ],
   "source": [
    "# checkpoint path\n",
    "checkpoint_path = os.path.join(cfg.work_dir, f'{epoch}.pth')\n",
    "\n",
    "model = build_detector(cfg.model, test_cfg=cfg.get('test_cfg')) # build detector\n",
    "checkpoint = load_checkpoint(model, checkpoint_path, map_location='cpu') # ckpt load\n",
    "\n",
    "model.CLASSES = dataset.CLASSES\n",
    "model = MMDataParallel(model.cuda(), device_ids=[0])"
   ]
  },
  {
   "cell_type": "code",
   "execution_count": 9,
   "id": "c9f5c2bb",
   "metadata": {},
   "outputs": [
    {
     "name": "stdout",
     "output_type": "stream",
     "text": [
      "[>>>>>>>>>>>>>>>>>>>>>>>>>>>] 4871/4871, 5.2 task/s, elapsed: 930s, ETA:     0s"
     ]
    }
   ],
   "source": [
    "output = single_gpu_test(model, data_loader, show_score_thr=0.05) # output 계산"
   ]
  },
  {
   "cell_type": "code",
   "execution_count": 10,
   "id": "5672a0ff",
   "metadata": {},
   "outputs": [
    {
     "name": "stdout",
     "output_type": "stream",
     "text": [
      "loading annotations into memory...\n",
      "Done (t=0.02s)\n",
      "creating index...\n",
      "index created!\n"
     ]
    },
    {
     "data": {
      "text/html": [
       "<div>\n",
       "<style scoped>\n",
       "    .dataframe tbody tr th:only-of-type {\n",
       "        vertical-align: middle;\n",
       "    }\n",
       "\n",
       "    .dataframe tbody tr th {\n",
       "        vertical-align: top;\n",
       "    }\n",
       "\n",
       "    .dataframe thead th {\n",
       "        text-align: right;\n",
       "    }\n",
       "</style>\n",
       "<table border=\"1\" class=\"dataframe\">\n",
       "  <thead>\n",
       "    <tr style=\"text-align: right;\">\n",
       "      <th></th>\n",
       "      <th>PredictionString</th>\n",
       "      <th>image_id</th>\n",
       "    </tr>\n",
       "  </thead>\n",
       "  <tbody>\n",
       "    <tr>\n",
       "      <th>0</th>\n",
       "      <td>1 0.52102685 570.0607 109.070274 754.03107 352...</td>\n",
       "      <td>test/0000.jpg</td>\n",
       "    </tr>\n",
       "    <tr>\n",
       "      <th>1</th>\n",
       "      <td>0 0.563182 645.8807 657.4749 670.39044 832.271...</td>\n",
       "      <td>test/0001.jpg</td>\n",
       "    </tr>\n",
       "    <tr>\n",
       "      <th>2</th>\n",
       "      <td>0 0.5967157 81.06941 294.5642 404.6328 598.612...</td>\n",
       "      <td>test/0002.jpg</td>\n",
       "    </tr>\n",
       "    <tr>\n",
       "      <th>3</th>\n",
       "      <td>9 0.9888053 137.48413 264.32733 911.3667 813.0...</td>\n",
       "      <td>test/0003.jpg</td>\n",
       "    </tr>\n",
       "    <tr>\n",
       "      <th>4</th>\n",
       "      <td>0 0.1362038 192.19543 265.00208 883.16003 769....</td>\n",
       "      <td>test/0004.jpg</td>\n",
       "    </tr>\n",
       "  </tbody>\n",
       "</table>\n",
       "</div>"
      ],
      "text/plain": [
       "                                    PredictionString       image_id\n",
       "0  1 0.52102685 570.0607 109.070274 754.03107 352...  test/0000.jpg\n",
       "1  0 0.563182 645.8807 657.4749 670.39044 832.271...  test/0001.jpg\n",
       "2  0 0.5967157 81.06941 294.5642 404.6328 598.612...  test/0002.jpg\n",
       "3  9 0.9888053 137.48413 264.32733 911.3667 813.0...  test/0003.jpg\n",
       "4  0 0.1362038 192.19543 265.00208 883.16003 769....  test/0004.jpg"
      ]
     },
     "execution_count": 10,
     "metadata": {},
     "output_type": "execute_result"
    }
   ],
   "source": [
    "# submission 양식에 맞게 output 후처리\n",
    "prediction_strings = []\n",
    "file_names = []\n",
    "coco = COCO(cfg.data.test.ann_file)\n",
    "img_ids = coco.getImgIds()\n",
    "\n",
    "class_num = 10\n",
    "for i, out in enumerate(output):\n",
    "    prediction_string = ''\n",
    "    image_info = coco.loadImgs(coco.getImgIds(imgIds=i))[0]\n",
    "    for j in range(class_num):\n",
    "        for o in out[j]:\n",
    "            prediction_string += str(j) + ' ' + str(o[4]) + ' ' + str(o[0]) + ' ' + str(o[1]) + ' ' + str(\n",
    "                o[2]) + ' ' + str(o[3]) + ' '\n",
    "        \n",
    "    prediction_strings.append(prediction_string)\n",
    "    file_names.append(image_info['file_name'])\n",
    "\n",
    "\n",
    "submission = pd.DataFrame()\n",
    "submission['PredictionString'] = prediction_strings\n",
    "submission['image_id'] = file_names\n",
    "submission.to_csv(os.path.join(cfg.work_dir, f'submission_{epoch}.csv'), index=None)\n",
    "submission.head()"
   ]
  },
  {
   "cell_type": "code",
   "execution_count": 13,
   "id": "432c76bd-e302-480a-91ba-274338da2251",
   "metadata": {},
   "outputs": [],
   "source": [
    "from map_boxes import mean_average_precision_for_boxes\n",
    "import pandas as pd\n",
    "import numpy as np\n",
    "import json\n",
    "from tqdm import tqdm\n",
    "from pycocotools.coco import COCO\n",
    "import seaborn as sns\n",
    "import matplotlib.pyplot as plt\n",
    "import cv2\n",
    "import os\n",
    "import random"
   ]
  },
  {
   "cell_type": "code",
   "execution_count": 14,
   "id": "e1716559-c99b-438f-88a8-b6bb1888b7d0",
   "metadata": {},
   "outputs": [
    {
     "name": "stderr",
     "output_type": "stream",
     "text": [
      "4871it [00:01, 3730.21it/s]\n"
     ]
    }
   ],
   "source": [
    "# EDA하기 편하게 submission을 데이터프레임 형식으로 변환\n",
    "new_pred = []\n",
    "\n",
    "file_names = submission['image_id'].values.tolist()\n",
    "bboxes = submission['PredictionString'].values.tolist()\n",
    "\n",
    "for i, bbox in enumerate(bboxes):\n",
    "    if isinstance(bbox,float):\n",
    "        print(f'{file_names[i]} empty box')\n",
    "\n",
    "df = pd.DataFrame(columns=[\"file_name\",\"label_index\",\"confidence_score\",\"x_min\",\"x_max\",\"y_min\",\"y_max\"])\n",
    "result_dict = dict()\n",
    "for file_name, bbox in tqdm(zip(file_names, bboxes)):\n",
    "    boxes = np.array(bbox.split(\" \"))\n",
    "    \n",
    "    if len(boxes) % 6 == 1:\n",
    "        annotation = boxes[:-1].reshape(-1, 6)\n",
    "    elif len(boxes) % 6 == 0:\n",
    "        annotation = boxes.reshape(-1, 6)\n",
    "    else:\n",
    "        raise Exception('error', 'invalid box count')\n",
    "    \n",
    "    for an in annotation:\n",
    "        new_pred.append([file_name,float(an[0]),float(an[1]),float(an[2]),float(an[4]),float(an[3]),float(an[5])])\n",
    "\n",
    "df = pd.DataFrame(new_pred,columns=[\"file_name\",\"label_index\",\"confidence_score\",\"x_min\",\"x_max\",\"y_min\",\"y_max\"])"
   ]
  },
  {
   "cell_type": "code",
   "execution_count": 16,
   "id": "26e48580-6827-46d6-b00f-4ef63dd747d3",
   "metadata": {},
   "outputs": [],
   "source": [
    "# Label 이름 변경\n",
    "LABEL_NAME = [\"General trash\", \"Paper\", \"Paper pack\", \"Metal\", \n",
    "              \"Glass\", \"Plastic\", \"Styrofoam\", \"Plastic bag\", \"Battery\", \"Clothing\"]\n",
    "\n",
    "label_dict = {}\n",
    "for idx,name in enumerate(LABEL_NAME):\n",
    "    label_dict[idx] = name\n",
    "\n",
    "df[\"label_index\"] = df[\"label_index\"].apply(lambda x: label_dict[x])"
   ]
  },
  {
   "cell_type": "code",
   "execution_count": null,
   "id": "534ac381-e56d-4b19-8803-f9afa41e15a8",
   "metadata": {},
   "outputs": [],
   "source": [
    "# 생성된 label 분포 확인\n",
    "EDA_columns = [\"label_index\"]\n",
    "\n",
    "def EDA(EDA_columns):\n",
    "    plt.figure(figsize=(12,10))\n",
    "\n",
    "    for i in range(len(EDA_columns)):\n",
    "        ax = sns.countplot(sorted(df[EDA_columns[i]]))\n",
    "        \n",
    "        for p in ax.patches:\n",
    "            height = p.get_height()\n",
    "            ax.text(p.get_x() + p.get_width() / 2., height, height,ha = 'center', size = 15)\n",
    "        \n",
    "        plt.title(EDA_columns[i] + \" Category\",size=20)\n",
    "        plt.gca().spines['right'].set_visible(False)\n",
    "        plt.gca().spines['top'].set_visible(False)\n",
    "        plt.gca().spines['left'].set_visible(False)\n",
    "        plt.yticks([])\n",
    "        plt.xticks(rotation=30,size=12)\n",
    "        plt.gca().set_facecolor('#E6F0F8')\n",
    "\n",
    "\n",
    "EDA(EDA_columns)"
   ]
  },
  {
   "cell_type": "code",
   "execution_count": null,
   "id": "44a34058-563a-48d1-98ad-668dfc671553",
   "metadata": {},
   "outputs": [],
   "source": [
    "# 결과 확인하기\n",
    "\n",
    "# class 별 bbox 색\n",
    "colors = [\n",
    "    (255, 0, 0), \n",
    "    (0, 255, 0),\n",
    "    (0, 0, 255),\n",
    "    (127, 127, 0),\n",
    "    (127, 0, 127),\n",
    "    (0, 127, 127),\n",
    "    (200, 200, 200),\n",
    "    (50, 150, 200),\n",
    "    (200, 155, 50),\n",
    "    (130, 198, 20),\n",
    "]\n",
    "labels = {0: 'General trash', 1: 'Paper', 2: 'Paper pack', 3: 'Metal', 4: 'Glass', 5: 'Plastic', 6: 'Styrofoam', 7: 'Plastic bag', 8: 'Battery', 9: 'Clothing'}\n",
    "\n",
    "# image dir\n",
    "img_dir = '/opt/ml/detection/dataset/'\n",
    "\n",
    "# output dir\n",
    "output_dir = ['/opt/ml/ysw/level2-object-detection-level2-cv-18/Mmdetection/_boost_/work_dirs/submission/cascade_swin_t_best.csv',\n",
    "'/opt/ml/ysw/level2-object-detection-level2-cv-18/Mmdetection/_boost_/work_dirs/submission/swin_ensemble.csv',\n",
    "'/opt/ml/ysw/level2-object-detection-level2-cv-18/Mmdetection/_boost_/work_dirs/submission/submission_swin_pseudo.csv']\n",
    "\n",
    "idx = random.choice(range(len(file_names)))\n",
    "\n",
    "# output 별 결과 확인\n",
    "for i in range(len(output_dir)):\n",
    "    test_result = pd.read_csv(output_dir[i])\n",
    "\n",
    "    file_names = test_result['image_id'].values.tolist()\n",
    "    bboxes = test_result['PredictionString'].values.tolist()\n",
    "\n",
    "    file_name = file_names[idx]\n",
    "    bbox = bboxes[idx].split()\n",
    "\n",
    "    # bbox 정보 추출\n",
    "    image = cv2.imread(os.path.join(img_dir, file_name)).astype(np.uint8)\n",
    "    for i in range(0, len(bbox), 6):\n",
    "        label = int(bbox[i])\n",
    "        x_min = int(bbox[i + 2].split('.')[0])\n",
    "        y_min = int(bbox[i + 3].split('.')[0])\n",
    "        x_max = int(bbox[i + 4].split('.')[0])\n",
    "        y_max = int(bbox[i + 5].split('.')[0])\n",
    "        \n",
    "        # bounding box 그리기\n",
    "        image = cv2.rectangle(image, pt1=(x_min, y_min), pt2=(x_max, y_max), color=colors[label], thickness=5)\n",
    "        # label text 넣기\n",
    "        cv2.putText(image, labels[label], (x_min, y_min - 20), cv2.FONT_HERSHEY_SIMPLEX, 1, colors[label], 3)\n",
    "\n",
    "    plt.figure(figsize=(10,10))\n",
    "    plt.imshow(image)"
   ]
  },
  {
   "cell_type": "code",
   "execution_count": null,
   "id": "2013b167-388c-4226-9705-6ecaf6ffde73",
   "metadata": {},
   "outputs": [],
   "source": []
  }
 ],
 "metadata": {
  "kernelspec": {
   "display_name": "detection",
   "language": "python",
   "name": "detection"
  }
 },
 "nbformat": 4,
 "nbformat_minor": 5
}
