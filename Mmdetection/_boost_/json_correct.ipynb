{
 "cells": [
  {
   "cell_type": "code",
   "execution_count": 1,
   "metadata": {},
   "outputs": [],
   "source": [
    "import json"
   ]
  },
  {
   "cell_type": "code",
   "execution_count": 3,
   "metadata": {},
   "outputs": [
    {
     "name": "stdout",
     "output_type": "stream",
     "text": [
      "{'width': 1024, 'height': 1024, 'file_name': 'train/0001.jpg', 'license': 0, 'flickr_url': None, 'coco_url': None, 'date_captured': '2021-01-10 16:30:39', 'id': 1}\n",
      "{'width': 1024, 'height': 1024, 'file_name': 'train_aug/0001.jpg', 'license': 0, 'flickr_url': None, 'coco_url': None, 'date_captured': '2021-01-10 16:30:39', 'id': 1}\n"
     ]
    }
   ],
   "source": [
    "with open(\"/opt/ml/detection/dataset/train_aug.json\", \"r\") as json_file:\n",
    "    aug_json = json.load(json_file)\n",
    "\n",
    "aug_list=[]\n",
    "print(aug_json['images'][1])\n",
    "for data in aug_json['images']:\n",
    "    data['file_name'] = 'train_aug'+data['file_name'][5:]\n",
    "print(aug_json['images'][1])"
   ]
  },
  {
   "cell_type": "code",
   "execution_count": 4,
   "metadata": {},
   "outputs": [
    {
     "name": "stdout",
     "output_type": "stream",
     "text": [
      "{'width': 1024, 'height': 1024, 'file_name': 'train_aug/3000.jpg', 'license': 0, 'flickr_url': None, 'coco_url': None, 'date_captured': '2020-12-26 13:25:02', 'id': 3000}\n",
      "{'width': 1024, 'height': 1024, 'file_name': 'train_aug/5000.jpg', 'license': 0, 'flickr_url': None, 'coco_url': None, 'date_captured': '2020-12-26 14:44:23', 'id': 5000}\n"
     ]
    }
   ],
   "source": [
    "data_shape = aug_json['images'][0]\n",
    "\n",
    "for i in range(4883,9501):\n",
    "    tmp_data = data_shape.copy()\n",
    "    tmp_data['file_name'] = data['file_name'][:10]+str(i)+\".jpg\"\n",
    "    tmp_data['id'] = i\n",
    "    aug_list.append(tmp_data)\n",
    "\n",
    "aug_json['images']+=aug_list.copy()\n",
    "print(aug_json['images'][3000])\n",
    "print(aug_json['images'][5000])"
   ]
  },
  {
   "cell_type": "code",
   "execution_count": 5,
   "metadata": {},
   "outputs": [],
   "source": [
    "with open('/opt/ml/detection/dataset/train_aug_correct.json', 'w') as outfile:\n",
    "    json.dump(aug_json, outfile)"
   ]
  },
  {
   "cell_type": "code",
   "execution_count": 3,
   "metadata": {},
   "outputs": [
    {
     "name": "stdout",
     "output_type": "stream",
     "text": [
      "{'width': 1024, 'height': 1024, 'file_name': 'train/0001.jpg', 'license': 0, 'flickr_url': None, 'coco_url': None, 'date_captured': '2021-01-10 16:30:39', 'id': 1}\n",
      "{'width': 1024, 'height': 1024, 'file_name': 'train_aug/4884.jpg', 'license': 0, 'flickr_url': None, 'coco_url': None, 'date_captured': '2021-01-10 16:30:39', 'id': 4884}\n",
      "{'image_id': 1, 'category_id': 3, 'area': 10402.56, 'bbox': [0.0, 407.4, 57.6, 180.6], 'iscrowd': 0, 'id': 1}\n",
      "{'image_id': 1, 'category_id': 3, 'area': 10402.56, 'bbox': [0.0, 407.4, 57.6, 180.6], 'iscrowd': 0, 'id': 23144}\n"
     ]
    }
   ],
   "source": [
    "with open(\"/opt/ml/detection/dataset/train_aug.json\", \"r\") as json_file:\n",
    "    aug_json = json.load(json_file)\n",
    "\n",
    "# aug_list=[]\n",
    "print(aug_json['images'][1])\n",
    "# for data in aug_json['images']:\n",
    "#     data['file_name'] = 'train_aug'+data['file_name'][5:]\n",
    "# print(aug_json['images'][1])\n",
    "\n",
    "for i in range(len(aug_json['images'])):\n",
    "    aug_json['images'][i]['file_name'] = 'train_aug/' + str(i+4883) +'.jpg'\n",
    "    aug_json['images'][i]['id'] = i + 4883\n",
    "print(aug_json['images'][1])\n",
    "\n",
    "print(aug_json['annotations'][1])\n",
    "for i in range(len(aug_json['annotations'])):\n",
    "    aug_json['annotations'][i]['id'] = aug_json['annotations'][i]['id'] + 23143\n",
    "print(aug_json['annotations'][1])\n",
    "\n",
    "with open('/opt/ml/detection/dataset/train_aug_correct.json', 'w') as outfile:\n",
    "    json.dump(aug_json, outfile)\n",
    "\n"
   ]
  },
  {
   "cell_type": "code",
   "execution_count": 36,
   "metadata": {},
   "outputs": [],
   "source": [
    "# data_shape = aug_json['images'][0]\n",
    "\n",
    "# for i in range(4883,9501):\n",
    "#     tmp_data = data_shape.copy()\n",
    "#     tmp_data['file_name'] = data['file_name'][:10]+str(i)+\".jpg\"\n",
    "#     tmp_data['id'] = i\n",
    "#     aug_list.append(tmp_data)\n",
    "\n",
    "# aug_json['images']+=aug_list.copy()\n",
    "# print(aug_json['images'][3000])\n",
    "# print(aug_json['images'][5000])\n"
   ]
  },
  {
   "cell_type": "code",
   "execution_count": 37,
   "metadata": {},
   "outputs": [],
   "source": [
    "\n",
    "# print(aug_json['images'][8868])"
   ]
  },
  {
   "cell_type": "code",
   "execution_count": 38,
   "metadata": {},
   "outputs": [],
   "source": [
    "\n",
    "# with open('/opt/ml/detection/dataset/train_aug_correct.json', 'w') as outfile:\n",
    "#     json.dump(aug_json, outfile)"
   ]
  },
  {
   "cell_type": "code",
   "execution_count": 39,
   "metadata": {},
   "outputs": [],
   "source": [
    "# len(aug_json['images'])"
   ]
  },
  {
   "cell_type": "code",
   "execution_count": 4,
   "metadata": {},
   "outputs": [],
   "source": [
    "# Labeled Data + Aug Data ################################################################################\n",
    "raw_data_path = \"/opt/ml/detection/dataset/train_aug_correct.json\" \n",
    "aug_data_path = \"/opt/ml/detection/dataset/train.json\"\n",
    "with open(raw_data_path) as f:\n",
    "\traw_data = json.load(f)\n",
    "\n",
    "with open(aug_data_path) as f:\n",
    "    aug_data = json.load(f)\n",
    "\n",
    "raw_data['images'] += aug_data['images']\n",
    "raw_data['annotations'] += aug_data['annotations']\n",
    "\n",
    "with open(\"./train_new.json\", \"w\") as new_file:\n",
    "\tjson.dump(raw_data, new_file)"
   ]
  },
  {
   "cell_type": "code",
   "execution_count": null,
   "metadata": {},
   "outputs": [],
   "source": []
  }
 ],
 "metadata": {
  "interpreter": {
   "hash": "b94c6de4bce9a87a354a5fa9998691adc0532adddb9d4140f5ba941d00b01fae"
  },
  "kernelspec": {
   "display_name": "Python 3 (ipykernel)",
   "language": "python",
   "name": "python3"
  },
  "language_info": {
   "codemirror_mode": {
    "name": "ipython",
    "version": 3
   },
   "file_extension": ".py",
   "mimetype": "text/x-python",
   "name": "python",
   "nbconvert_exporter": "python",
   "pygments_lexer": "ipython3",
   "version": "3.7.11"
  }
 },
 "nbformat": 4,
 "nbformat_minor": 4
}
