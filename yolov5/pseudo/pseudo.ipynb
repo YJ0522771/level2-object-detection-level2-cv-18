{
 "cells": [
  {
   "cell_type": "code",
   "execution_count": 4,
   "metadata": {},
   "outputs": [],
   "source": [
    "from collections import defaultdict\n",
    "import json\n",
    "\n",
    "train_path = '/opt/ml/detection/dataset/'\n",
    "test_path = '/opt/ml/detection/dataset/test.json'\n",
    "best_predictions_path = 'train.json' # val.py를 돌려서 나온 JSON 경로\n",
    "\n",
    "score_thres = 0.6 # score threshold로 일정 점수 이상의 box값만 정답으로써 반영한다.\n",
    "\n",
    "with open (train_path,'r') as f:\n",
    "    train = json.load(f)\n",
    "    \n",
    "with open(test_path,'r') as f:\n",
    "    test = json.load(f)\n",
    "    \n",
    "with open(best_predictions_path,'r') as f:\n",
    "    best = json.load(f)\n",
    "    preds = defaultdict(list)\n",
    "    for i in best:\n",
    "        preds[i['image_id']].append(i)\n",
    "        \n",
    "img_id = 4883 # Test 이미지가 저장될 시작 번호\n",
    "anno_id = 23144 # Test annotations가 저장될 시작 번호\n",
    "\n",
    "for test_img in test['images']:\n",
    "    \n",
    "    new_annotations = []\n",
    "    \n",
    "    for annotations in preds[test_img['id']]:\n",
    "        if annotations['score'] > score_thres: \n",
    "\n",
    "            x_min,y_min,x_max,y_max = annotations['bbox']\n",
    "            x_min = round(x_min,1)\n",
    "            y_min = round(y_min,1)\n",
    "            x_max = round(x_max,1)\n",
    "            y_max = round(y_max,1)\n",
    "            new = {\n",
    "                'image_id' : img_id,\n",
    "                'category_id': annotations['category_id'],\n",
    "                'area': round(x_max*y_max,2),\n",
    "                'bbox':[x_min,y_min,x_max,y_max],\n",
    "                'iscrowd': 0,\n",
    "                'id': anno_id\n",
    "            }\n",
    "            new_annotations.append(new)\n",
    "            anno_id+=1\n",
    "    \n",
    "    if len(new_annotations): # 예측결과값이 있는 경우에만 추가해준다.\n",
    "        test['id'] = img_id\n",
    "        train['images'].append(test_img)\n",
    "        train['annotations'].extend(new_annotations)\n",
    "        img_id+=1\n",
    "\n",
    "with open ('pseudo.json','w') as f:\n",
    "    json.dump(train,f)\n",
    "    \n",
    "\n",
    "\n"
   ]
  }
 ],
 "metadata": {
  "interpreter": {
   "hash": "b94c6de4bce9a87a354a5fa9998691adc0532adddb9d4140f5ba941d00b01fae"
  },
  "kernelspec": {
   "display_name": "Python 3 (ipykernel)",
   "language": "python",
   "name": "python3"
  },
  "language_info": {
   "codemirror_mode": {
    "name": "ipython",
    "version": 3
   },
   "file_extension": ".py",
   "mimetype": "text/x-python",
   "name": "python",
   "nbconvert_exporter": "python",
   "pygments_lexer": "ipython3",
   "version": "3.7.11"
  }
 },
 "nbformat": 4,
 "nbformat_minor": 4
}
