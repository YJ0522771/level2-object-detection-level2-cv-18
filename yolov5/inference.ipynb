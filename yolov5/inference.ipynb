{
 "cells": [
  {
   "cell_type": "code",
   "execution_count": null,
   "metadata": {},
   "outputs": [],
   "source": [
    "import torch\n",
    "import pandas as pd \n",
    "from PIL import Image\n",
    "from tqdm import tqdm\n",
    "\n",
    "model = torch.hub.load('./utils','custom',path='/opt/ml/yolov5/runs/train/exp6/weights/best.pt',source='local') # 학습을 돌려서 나온 결과값중 가장 좋은 모델의 경로 지정\n",
    "model.conf = 0.001 # confidence score\n",
    "model.iou = 0.5 # IoU score\n",
    "img_path = '/opt/ml/detection/dataset/' # 이미지 경로\n",
    "\n",
    "prediction_string = [''for i in range(4871)]\n",
    "image_id = [f'test/{i:04}.jpg' for i in range(4871)]\n",
    "\n",
    "for i in tqdm(range(len(image_id))):\n",
    "    img = Image.open(img_path+image_id[i])\n",
    "    preds = model(img,size=1024,augment=True)\n",
    "    for data in preds.pandas().xyxy[0].values:\n",
    "        x1,y1,x2,y2,conf,cls,label = data\n",
    "        prediction_string[i] += f'{cls} {conf} {x1} {y1} {x2} {y2} ' # 형식에 맞춰서 작성\n",
    "\n"
   ]
  },
  {
   "cell_type": "code",
   "execution_count": null,
   "metadata": {},
   "outputs": [],
   "source": [
    "submission = pd.DataFrame()\n",
    "submission['PredictionString'] = prediction_string\n",
    "submission['image_id'] = image_id\n",
    "submission.to_csv(\"./submission.csv\", index=False)"
   ]
  }
 ],
 "metadata": {
  "interpreter": {
   "hash": "b94c6de4bce9a87a354a5fa9998691adc0532adddb9d4140f5ba941d00b01fae"
  },
  "kernelspec": {
   "display_name": "Python 3.7.11 ('detection')",
   "language": "python",
   "name": "python3"
  },
  "language_info": {
   "codemirror_mode": {
    "name": "ipython",
    "version": 3
   },
   "file_extension": ".py",
   "mimetype": "text/x-python",
   "name": "python",
   "nbconvert_exporter": "python",
   "pygments_lexer": "ipython3",
   "version": "3.7.11"
  },
  "orig_nbformat": 4
 },
 "nbformat": 4,
 "nbformat_minor": 2
}
