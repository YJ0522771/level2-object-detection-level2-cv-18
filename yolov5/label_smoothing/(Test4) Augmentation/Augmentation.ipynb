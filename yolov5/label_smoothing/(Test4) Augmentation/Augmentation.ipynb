{
 "cells": [
  {
   "cell_type": "markdown",
   "metadata": {},
   "source": [
    "utils 폴더에 있는 augmentations.py의 transform 구성을 아래로 바꾸고 학습시켜 봤다.\n",
    "\n",
    "```\n",
    "self.transform = A.Compose([\n",
    "                A.OneOf([\n",
    "                    A.Flip(p=1.0),\n",
    "                    A.RandomRotate90(p=1.0)\n",
    "                ]),\n",
    "                A.RandomBrightnessContrast(brightness_limit=0.05, contrast_limit=0.15, p=0.5),\n",
    "                A.GaussNoise(p=0.2),\n",
    "                A.OneOf([\n",
    "                    A.Blur(p=1.0),\n",
    "                    A.GaussianBlur(p=1.0),\n",
    "                    A.MedianBlur(blur_limit=5, p=1.0),\n",
    "                    A.MotionBlur(p=1.0)\n",
    "                ], p=0.1),\n",
    "                A.CLAHE(p=0.01)],  bbox_params=A.BboxParams(format='yolo', label_fields=['class_labels'])\n",
    ")\n",
    "```\n",
    "\n",
    "* 학습 명령: python train.py --img 1024 --batch 8 --epochs 70 --data './data/dataset.yaml' --cfg './models/yolov5x.yaml' --weights yolov5x.pt --hyp './runs/evolve/YoloV5x_Hyp_tuning/hyp_evolve.yaml' --label-smoothing 0.1 --name YoloV5x_augmentation --cache\n",
    "\n",
    "* 테스트 명령: python detect.py --img 1024 --source './data/test' --weights './runs/train/YoloV5x_augmentation/weights/best.pt' --save-txt --save-conf --name YoloV5x_augmentation --augment\n",
    "\n",
    "* Pseudo labeling을 위한 테스트 명령: python detect.py --img 1024 --source './data/test' --weights './runs/train/YoloV5x_augmentation/weights/best.pt' --save-txt --name Labeling_YoloV5x_augmentation --augment --iou-thres 0.5"
   ]
  },
  {
   "cell_type": "markdown",
   "metadata": {},
   "source": [
    "아래는 Pseudo labeling을 위해 labeling된 이미지들을 저장하고 label들을 저장하는 코드이다."
   ]
  },
  {
   "cell_type": "code",
   "execution_count": 3,
   "metadata": {},
   "outputs": [],
   "source": [
    "if not os.path.exists('./images_and_labels'): os.makedirs('./images_and_labels')                # images, labels 파일을 담을 파일 \n",
    "if not os.path.exists('./images_and_labels/images'): os.makedirs('./images_and_labels/images')  # train, test 이미지를 저장할 파일, train 이미지는 미리 옮겨놔야 한다.\n",
    "if not os.path.exists('./images_and_labels/labels'): os.makedirs('./images_and_labels/labels')  # train, test의 라벨을 저장할 파일"
   ]
  },
  {
   "cell_type": "code",
   "execution_count": 4,
   "metadata": {},
   "outputs": [],
   "source": [
    "import json\n",
    "import os\n",
    "\n",
    "with open(\"../detection/dataset/train.json\", \"r\") as json_file: # label이 저장된 train.json 파일을 가져온다.\n",
    "    train_json = json.load(json_file)\n",
    "\n",
    "ann_index = 0; img_index = 0                                    # 탐색할 annotation, image에 대한 인덱스이다. image의 인덱스란 이미지의 번호를 의미한다. (0100의 경우 100이다.)\n",
    "txt_path = './images_and_labels/labels'\n",
    "\n",
    "while img_index < 4883:                                         # BBox가 저장된 모든 annotation을 탐색한다.\n",
    "    image_id = str(img_index)                                   # 이미지 번호를 형식에 맞게 저장한다. (0은 '0000', 1은 '0001' 식으로 변경)\n",
    "    while len(image_id)<4: image_id = '0'+image_id\n",
    "    txt_file = open(os.path.join(txt_path, image_id+'.txt'), 'w')\n",
    "\n",
    "    string = ''\n",
    "    while ann_index < len(train_json['annotations']):\n",
    "        annotation = train_json['annotations'][ann_index]\n",
    "        if img_index != annotation['image_id']:                 # 현재 탐색하고 있는 이미지와 id가 일치하는지 확인하고 일치하지 않으면 반복문을 탈출한다. \n",
    "            break                       \n",
    "        \n",
    "        category = annotation['category_id']                    # category_id(class number)를 가져온다.\n",
    "        coco_x, coco_y, coco_w, coco_h = annotation['bbox']     # bbox를 가져온다. (coco dataset)\n",
    "        yolo_x = (coco_x+coco_w/2)/1024                         # yolo dataset 형식으로 바꿔준다.\n",
    "        yolo_y = (coco_y+coco_h/2)/1024\n",
    "        yolo_w = coco_w/1024\n",
    "        yolo_h = coco_h/1024\n",
    "        \n",
    "        string += f'{category} {yolo_x:.6} {yolo_y:.6} {yolo_w:.6} {yolo_h:.6}\\n'\n",
    "        ann_index += 1\n",
    "    txt_file.write(string.rstrip())\n",
    "    txt_file.close()\n",
    "    img_index += 1"
   ]
  },
  {
   "cell_type": "code",
   "execution_count": 6,
   "metadata": {},
   "outputs": [],
   "source": [
    "import os\n",
    "\n",
    "label_path = '../yolov5/runs/detect/Labeling_YoloV5x_augmentation/labels'   # 라벨이 존재하는 폴더를 지정한다.\n",
    "save_path = './images_and_labels/labels'                                    # 라벨을 저장할 폴더를 지정한다.\n",
    "\n",
    "image_id = 4883                                                             # 위에서 train image들을 저장할 때 마지막 image의 id가 4882이므로 test이미지를 저장할 때는 4883으로 시작해야 한다.\n",
    "for test_idx in range(4871):\n",
    "    test_id = str(test_idx)\n",
    "    while len(test_id)<4: test_id = '0'+test_id \n",
    "    try:\n",
    "        txt_file = open(os.path.join(label_path, test_id+'.txt'), 'r')      # 라벨을 가져온다.\n",
    "        lines = txt_file.readlines()\n",
    "        txt_file.close()\n",
    "\n",
    "        save_id = str(image_id)\n",
    "        txt_file = open(os.path.join(save_path, save_id+'.txt'), 'w')\n",
    "        txt_file.write(''.join(lines))\n",
    "        txt_file.close()\n",
    "\n",
    "        image_id += 1\n",
    "    except:\n",
    "        pass"
   ]
  },
  {
   "cell_type": "code",
   "execution_count": 7,
   "metadata": {},
   "outputs": [
    {
     "name": "stdout",
     "output_type": "stream",
     "text": [
      "Complete Download Test Images\n"
     ]
    }
   ],
   "source": [
    "import numpy as np\n",
    "import os\n",
    "from PIL import Image\n",
    "\n",
    "imgs_path = './../detection/dataset/test'                                   # 이미지 파일에 접근하기 위해 train_image가 저장된 path를 지정해 놓는다.\n",
    "label_path = '../yolov5/runs/detect/Labeling_YoloV5x_augmentation/labels'   # 라벨이 존재하는 폴더를 지정한다.\n",
    "save_path = './images_and_labels/images'                                    # 이미지를 저장할 폴더를 지정한다.\n",
    "image_id = 4883                                                             # 위에서 train image들을 저장할 때 마지막 image의 id가 4882이므로 test이미지를 저장할 때는 4883으로 시작해야 한다.\n",
    "\n",
    "for test_idx in range(4871):\n",
    "    test_id = str(test_idx)\n",
    "    while len(test_id)<4: test_id = '0'+test_id \n",
    "\n",
    "    if not os.path.exists(os.path.join(label_path, test_id+'.txt')): continue\n",
    "\n",
    "    save_id = str(image_id)\n",
    "    img = Image.open(os.path.join(imgs_path, test_id+'.jpg'))               # 이미지를 가져오고 저장한다.\n",
    "    img.save(os.path.join(save_path, save_id+'.jpg'), 'JPEG') \n",
    "    image_id += 1\n",
    "    \n",
    "print('Complete Download Test Images')"
   ]
  },
  {
   "cell_type": "markdown",
   "metadata": {},
   "source": [
    "가져온 이미지들과 기존의 train 이미지들을 train과 valid 셋으로 나누는 코드이다."
   ]
  },
  {
   "cell_type": "code",
   "execution_count": 8,
   "metadata": {},
   "outputs": [],
   "source": [
    "if not os.path.exists('./train'): os.makedirs('./train')                # train images, labels 파일을 담을 파일\n",
    "if not os.path.exists('./train/images'): os.makedirs('./train/images')  \n",
    "if not os.path.exists('./train/labels'): os.makedirs('./train/labels')  \n",
    "if not os.path.exists('./valid'): os.makedirs('./valid')                # valid images, labels 파일을 담을 파일\n",
    "if not os.path.exists('./valid/images'): os.makedirs('./valid/images')  \n",
    "if not os.path.exists('./valid/labels'): os.makedirs('./valid/labels')  "
   ]
  },
  {
   "cell_type": "code",
   "execution_count": 11,
   "metadata": {},
   "outputs": [
    {
     "name": "stdout",
     "output_type": "stream",
     "text": [
      "train imgs 개수: 7790 / valid imgs 개수: 1948\n",
      "Complete Download Train Images\n",
      "Complete Download Valid Images\n"
     ]
    }
   ],
   "source": [
    "import numpy as np\n",
    "import os\n",
    "from sklearn.model_selection import train_test_split\n",
    "from PIL import Image\n",
    "\n",
    "imgs = [str(i) for i in range(9738)]                            # 이미지들에 접근하기 위해 형태에 맞게 이미지 번호를 저장한다. (index->0~9753)\n",
    "for i in range(len(imgs)):\n",
    "    while len(imgs[i])<4: imgs[i] = '0'+imgs[i] \n",
    "\n",
    "np.random.seed(777)                                             # random seed를 고정한다.\n",
    "np.random.shuffle(imgs)                                         # 이미지 번호를 섞어준다.\n",
    "\n",
    "train_imgs, valid_imgs = train_test_split(imgs, test_size=0.2)  # random seed는 위에서 지정했으므로 지정하지 않아도 된다.\n",
    "train_imgs.sort()                                               \n",
    "valid_imgs.sort()\n",
    "\n",
    "imgs_path = './images_and_labels/images'                        # 이미지 파일에 접근하기 image가 저장된 path를 지정해 놓는다.\n",
    "\n",
    "print(f'train imgs 개수: {len(train_imgs)} / valid imgs 개수: {len(valid_imgs)}')\n",
    "\n",
    "for train_img in train_imgs:\n",
    "    save_path = './train/images'                                # 이미지를 저장할 폴더를 지정한다.\n",
    "    if not os.path.exists(save_path): os.makedirs(save_path)    # 해당 폴더가 없으면 생성한다.\n",
    "    img = Image.open(os.path.join(imgs_path, train_img+'.jpg')) # 이미지를 가져오고 저장한다.\n",
    "    img.save(os.path.join(save_path, train_img+'.jpg'), 'JPEG') \n",
    "\n",
    "print('Complete Download Train Images')\n",
    "    \n",
    "for valid_img in valid_imgs:\n",
    "    save_path = './valid/images'                                # 이미지를 저장할 폴더를 지정한다.\n",
    "    if not os.path.exists(save_path): os.makedirs(save_path)    # 해당 폴더가 없으면 생성한다.\n",
    "    img = Image.open(os.path.join(imgs_path, valid_img+'.jpg')) # 이미지를 가져오고 저장한다.\n",
    "    img.save(os.path.join(save_path, valid_img+'.jpg'), 'JPEG')\n",
    "    \n",
    "print('Complete Download Valid Images')"
   ]
  },
  {
   "cell_type": "code",
   "execution_count": 12,
   "metadata": {},
   "outputs": [
    {
     "name": "stdout",
     "output_type": "stream",
     "text": [
      "Complete Download Train Labels\n",
      "Complete Download Valid Labels\n"
     ]
    }
   ],
   "source": [
    "import shutil\n",
    "\n",
    "labels_path = './images_and_labels/labels'                         \n",
    "\n",
    "for train_img in train_imgs:\n",
    "    save_path = './train/labels'                                    \n",
    "    if not os.path.exists(save_path): os.makedirs(save_path)        \n",
    "    shutil.copy(os.path.join(labels_path, train_img+'.txt'), save_path)     \n",
    "\n",
    "print('Complete Download Train Labels')\n",
    "    \n",
    "for valid_img in valid_imgs:\n",
    "    save_path = './valid/labels'                                    \n",
    "    if not os.path.exists(save_path): os.makedirs(save_path)        \n",
    "    shutil.copy(os.path.join(labels_path, valid_img+'.txt'), save_path)  \n",
    "    \n",
    "print('Complete Download Valid Labels')"
   ]
  },
  {
   "cell_type": "markdown",
   "metadata": {},
   "source": [
    "기존 train, test셋에 소속된 이미지가 거의 비슷한 비율로 나눠진 것을 확인할 수 있다."
   ]
  },
  {
   "cell_type": "code",
   "execution_count": 28,
   "metadata": {},
   "outputs": [
    {
     "data": {
      "image/png": "[encoded data removed]",
      "text/plain": [
       "<Figure size 432x288 with 1 Axes>"
      ]
     },
     "metadata": {
      "needs_background": "light"
     },
     "output_type": "display_data"
    }
   ],
   "source": [
    "import numpy as np\n",
    "import matplotlib.pyplot as plt\n",
    "\n",
    "train_class = [0, 0]\n",
    "for train_img in train_imgs:\n",
    "    if int(train_img)<4883: train_class[0]+=1\n",
    "    else: train_class[1]+=1\n",
    "\n",
    "valid_class = [0, 0]\n",
    "for valid_img in valid_imgs:\n",
    "    if int(valid_img)<4883: valid_class[0]+=1\n",
    "    else: valid_class[1]+=1\n",
    "\n",
    "index = np.array([0, 1])\n",
    "width = 0.25\n",
    "train = plt.bar(index-0.5*width, train_class, width=width)\n",
    "valid = plt.bar(index+0.5*width, valid_class, width=width)\n",
    "\n",
    "for rect in train:\n",
    "    height = rect.get_height()\n",
    "    plt.text(rect.get_x()+rect.get_width()/2.0, height, str(height), ha='center', va='bottom', size=10)\n",
    "for rect in valid:\n",
    "    height = rect.get_height()\n",
    "    plt.text(rect.get_x()+rect.get_width()/2.0, height, str(height), ha='center', va='bottom', size=10)\n",
    "\n",
    "\n",
    "plt.xticks(index, ['train', 'test'])\n",
    "\n",
    "plt.show()"
   ]
  },
  {
   "cell_type": "markdown",
   "metadata": {},
   "source": [
    "* 학습 명령: python train.py --img 1024 --batch 8 --epochs 70 --data './data/labeling_dataset.yaml' --cfg './models/yolov5x.yaml' --weights yolov5x.pt --hyp './runs/evolve/YoloV5x_Hyp_tuning/hyp_evolve.yaml' --label-smoothing 0.1 --name YoloV5x_augmentation_labeling --cache\n",
    "\n",
    "* 테스트: python detect.py --img 1024 --source './data/test' --weights './runs/train/YoloV5x_augmentation_labeling/weights/best.pt' --augment --save-txt --save-conf --name YoloV5x_augmentation_labeling"
   ]
  },
  {
   "cell_type": "code",
   "execution_count": 9,
   "metadata": {},
   "outputs": [],
   "source": [
    "import pandas as pd\n",
    "import os\n",
    "\n",
    "df = pd.DataFrame(index=[i for i in range(4871)], columns=['PredictionString', 'image_id'])\n",
    "yolo_path = './../yolov5/runs/detect/YoloV5x_augmentation/labels'\n",
    "for img_index in range(4871):\n",
    "    image_id = str(img_index)\n",
    "    while len(image_id)<4: image_id = '0'+image_id\n",
    "\n",
    "    PredictionString = ''\n",
    "    try: \n",
    "        txt_file = open(os.path.join(yolo_path, image_id+'.txt'), 'r')\n",
    "        lines = txt_file.readlines()\n",
    "    \n",
    "        for line in lines:\n",
    "            category, yolo_x, yolo_y, yolo_w, yolo_h, pred = (line.split())\n",
    "            x_min = (float(yolo_x)-float(yolo_w)/2)*1024\n",
    "            y_min = (float(yolo_y)-float(yolo_h)/2)*1024\n",
    "            x_max = x_min+float(yolo_w)*1024\n",
    "            y_max = y_min+float(yolo_h)*1024\n",
    "            PredictionString += f'{category} {pred} {x_min} {y_min} {x_max} {y_max} '\n",
    "        txt_file.close()\n",
    "    except FileNotFoundError:\n",
    "        pass\n",
    "    \n",
    "    df.iloc[img_index] = [PredictionString, 'test/'+image_id+'.jpg']\n",
    "\n",
    "df.to_csv('./YoloV5x_augmentation.csv', index=False)"
   ]
  },
  {
   "cell_type": "markdown",
   "metadata": {},
   "source": [
    "<h3> <strong> Result </strong> </h3> \n",
    "\n",
    "기존 yolov5x6 모델의 mAP인 0.5587에서 0.5630으로 약 0.005 정도 성능이 향상되었다."
   ]
  }
 ],
 "metadata": {
  "kernelspec": {
   "display_name": "detection",
   "language": "python",
   "name": "detection"
  },
  "language_info": {
   "codemirror_mode": {
    "name": "ipython",
    "version": 3
   },
   "file_extension": ".py",
   "mimetype": "text/x-python",
   "name": "python",
   "nbconvert_exporter": "python",
   "pygments_lexer": "ipython3",
   "version": "3.7.11"
  },
  "orig_nbformat": 4
 },
 "nbformat": 4,
 "nbformat_minor": 2
}
