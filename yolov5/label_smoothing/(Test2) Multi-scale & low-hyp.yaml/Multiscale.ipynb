{
 "cells": [
  {
   "cell_type": "markdown",
   "metadata": {},
   "source": [
    "<h3> <strong> 1. 실험 </strong> </h3>\n",
    "\n",
    "<h4> <strong>[비교] (label_smoothing+evolve 모델+multi-scale -> TTA 적용 & 미적용)</strong> </h4>\n",
    "\n",
    "**학습 명령**\n",
    "\n",
    "* python train.py --img 1024 --batch 4 --epochs 70 --data './data/dataset.yaml' --cfg './models/yolov5x.yaml' --weights yolov5x.pt --hyp './runs/evolve/YoloV5x_Hyp_tuning/hyp_evolve.yaml' --label-smoothing 0.1 --multi-scale --name YoloV5x_multiscale --cache \n",
    "* python train.py --img 1024 --batch 4 --epochs 70 --data './data/dataset.yaml' --cfg './models/yolov5x.yaml' --weights yolov5x.pt --hyp './data/hyps/hyp.scratch-low.yaml' --label-smoothing 0.1 --multi-scale --name YoloV5x_multiscale_lowYaml --cache \n",
    "* python train.py --img 1024 --batch 4 --epochs 70 --data './data/dataset.yaml' --cfg './models/yolov5x.yaml' --weights yolov5x.pt --hyp './runs/evolve/YoloV5x_Hyp_tuning/hyp_evolve.yaml' --multi-scale --name YoloV5x_multiscale_no_LS --cache \n",
    "\n",
    "**테스트 명령**\n",
    "\n",
    "* python detect.py --img 1024 --source './data/test' --weights './runs/train/YoloV5x_multiscale/weights/best.pt' --save-txt --save-conf --name YoloV5x_multiscale_no_TTA\n",
    "* python detect.py --img 1024 --source './data/test' --weights './runs/train/YoloV5x_multiscale/weights/best.pt' --augment --save-txt --save-conf --name YoloV5x_multiscale_TTA\n",
    "* python detect.py --img 1024 --source './data/test' --weights './runs/train/YoloV5x_multiscale/weights/best.pt' --augment --save-txt --save-conf --name YoloV5x_multiscale_TTA_IOU --iou-thres 0.3\n",
    "* python detect.py --img 1024 --source './data/test' --weights './runs/train/YoloV5x_multiscale/weights/best.pt' --augment --save-txt --save-conf --name YoloV5x_multiscale_lowYaml\n",
    "* python detect.py --img 1024 --source './data/test' --weights './runs/train/YoloV5x_multiscale/weights/best.pt' --augment --save-txt --save-conf --name YoloV5x_multiscale_no_LS\n"
   ]
  },
  {
   "cell_type": "code",
   "execution_count": 1,
   "metadata": {},
   "outputs": [],
   "source": [
    "import pandas as pd\n",
    "import os\n",
    "\n",
    "df = pd.DataFrame(index=[i for i in range(4871)], columns=['PredictionString', 'image_id'])\n",
    "yolo_path = './../yolov5/runs/detect/YoloV5x_multiscale_TTA_IOU/labels'\n",
    "for img_index in range(4871):\n",
    "    image_id = str(img_index)\n",
    "    while len(image_id)<4: image_id = '0'+image_id\n",
    "\n",
    "    PredictionString = ''\n",
    "    try: \n",
    "        txt_file = open(os.path.join(yolo_path, image_id+'.txt'), 'r')\n",
    "        lines = txt_file.readlines()\n",
    "    \n",
    "        for line in lines:\n",
    "            category, yolo_x, yolo_y, yolo_w, yolo_h, pred = (line.split())\n",
    "            x_min = (float(yolo_x)-float(yolo_w)/2)*1024\n",
    "            y_min = (float(yolo_y)-float(yolo_h)/2)*1024\n",
    "            x_max = x_min+float(yolo_w)*1024\n",
    "            y_max = y_min+float(yolo_h)*1024\n",
    "            PredictionString += f'{category} {pred} {x_min} {y_min} {x_max} {y_max} '\n",
    "        txt_file.close()\n",
    "    except FileNotFoundError:\n",
    "        pass\n",
    "    \n",
    "    df.iloc[img_index] = [PredictionString, 'test/'+image_id+'.jpg']\n",
    "\n",
    "df.to_csv('./YoloV5x_multiscale_TTA_IOU.csv', index=False)"
   ]
  },
  {
   "cell_type": "markdown",
   "metadata": {},
   "source": [
    "<h3> <strong> 2. 결과 </strong> </h3>\n",
    "\n",
    "(1) Multi-Scale 적용: 0.4410 / 기존 0.4623보다 0.02 정도 성능 감소함. <br>\n",
    "(2) Multi-Scale 모델에 TTA 적용: 0.4938 / TTA의 성능이 좋은 것을 확인할 수 있음.<br>\n",
    "(3) iou-thres 감소: 0.4944 / 0.4410에 비해 mAP 성적이 0.05정도 향상됨. <br>\n",
    "(4) low.yaml 파라미터 구성 적용: (valid) 0.5511 / evolution 기법을 적용한 파라미터 조합보다 valid가 0.04정도 감소함. 따라서 제출은 하지 않음.<br>\n",
    "(5) Label Smoothing 제외: 0.4938 / 0.4410에 비해 0.05 정도 성능이 향상됨. label smoothing과 multi-scale의 조합이 좋지 않은 듯 함."
   ]
  }
 ],
 "metadata": {
  "kernelspec": {
   "display_name": "detection",
   "language": "python",
   "name": "detection"
  },
  "language_info": {
   "codemirror_mode": {
    "name": "ipython",
    "version": 3
   },
   "file_extension": ".py",
   "mimetype": "text/x-python",
   "name": "python",
   "nbconvert_exporter": "python",
   "pygments_lexer": "ipython3",
   "version": "3.7.11"
  }
 },
 "nbformat": 4,
 "nbformat_minor": 4
}
