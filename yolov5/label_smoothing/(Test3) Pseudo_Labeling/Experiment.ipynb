{
 "cells": [
  {
   "cell_type": "markdown",
   "metadata": {},
   "source": [
    "<h3> <strong> 1. 실험 </strong> </h3> \n",
    "\n",
    "아래 명령을 이용해 학습을 시켜보자.\n",
    "\n",
    "* python train.py --img 1024 --batch 8 --epochs 70 --data './data/labeling_dataset.yaml' --cfg './models/yolov5x.yaml' --weights './runs/train/YoloV5x_label_smoothing_Hyp_tuning/weights/best.pt' --hyp './runs/evolve/YoloV5x_Hyp_tuning/hyp_evolve.yaml' --label-smoothing 0.1 --name YoloV5x_labeling_pretrained --cache\n",
    "\n",
    "이후 아래 명령을 이용해 test box에 대한 bbox를 생성해야 한다.\n",
    "\n",
    "* python detect.py --img 1024 --source './data/test' --weights './runs/train/YoloV5x_labeling_pretrained/weights/best.pt' --augment --save-txt --save-conf --name YoloV5x_labeling_pretrained\n",
    "* python detect.py --img 1024 --source './data/test' --weights './runs/train/YoloV5x_labeling_pretrained/weights/best.pt' --augment --save-txt --save-conf --name YoloV5x_labeling_pretrained_IOU"
   ]
  },
  {
   "cell_type": "code",
   "execution_count": 4,
   "metadata": {},
   "outputs": [],
   "source": [
    "import pandas as pd\n",
    "import os\n",
    "\n",
    "df = pd.DataFrame(index=[i for i in range(4871)], columns=['PredictionString', 'image_id'])\n",
    "yolo_path = './../yolov5/runs/detect/YoloV5x_labeling_pretrained_IOU/labels'\n",
    "for img_index in range(4871):\n",
    "    image_id = str(img_index)\n",
    "    while len(image_id)<4: image_id = '0'+image_id\n",
    "\n",
    "    PredictionString = ''\n",
    "    try: \n",
    "        txt_file = open(os.path.join(yolo_path, image_id+'.txt'), 'r')\n",
    "        lines = txt_file.readlines()\n",
    "    \n",
    "        for line in lines:\n",
    "            category, yolo_x, yolo_y, yolo_w, yolo_h, pred = (line.split())\n",
    "            x_min = (float(yolo_x)-float(yolo_w)/2)*1024\n",
    "            y_min = (float(yolo_y)-float(yolo_h)/2)*1024\n",
    "            x_max = x_min+float(yolo_w)*1024\n",
    "            y_max = y_min+float(yolo_h)*1024\n",
    "            PredictionString += f'{category} {pred} {x_min} {y_min} {x_max} {y_max} '\n",
    "        txt_file.close()\n",
    "    except FileNotFoundError:\n",
    "        pass\n",
    "    \n",
    "    df.iloc[img_index] = [PredictionString, 'test/'+image_id+'.jpg']\n",
    "\n",
    "df.to_csv('./YoloV5x_labeling_pretrained_IOU.csv', index=False)"
   ]
  },
  {
   "cell_type": "markdown",
   "metadata": {},
   "source": [
    "<h3> <strong> 2. 결과 </strong> </h3>\n",
    "\n",
    "(1) Pseudo Labeling 적용: 0.5171 / 기존 0.5017 mAP에 비해 0.01 정도 향상됨. <br>\n",
    "(2) IOU 감소시 성능이 향상될 때도, 떨어질 때도 있어서 다른 모델 제출을 위해 제출하지 않음."
   ]
  }
 ],
 "metadata": {
  "kernelspec": {
   "display_name": "detection",
   "language": "python",
   "name": "detection"
  },
  "language_info": {
   "codemirror_mode": {
    "name": "ipython",
    "version": 3
   },
   "file_extension": ".py",
   "mimetype": "text/x-python",
   "name": "python",
   "nbconvert_exporter": "python",
   "pygments_lexer": "ipython3",
   "version": "3.7.11"
  },
  "orig_nbformat": 4
 },
 "nbformat": 4,
 "nbformat_minor": 2
}
