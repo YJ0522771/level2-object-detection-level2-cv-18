{
 "cells": [
  {
   "cell_type": "markdown",
   "metadata": {},
   "source": [
    "먼저 필요한 파일을 만들어주자."
   ]
  },
  {
   "cell_type": "code",
   "execution_count": 2,
   "metadata": {},
   "outputs": [],
   "source": [
    "if not os.path.exists('./images_and_labels'): os.makedirs('./images_and_labels')                # images, labels 파일을 담을 파일\n",
    "if not os.path.exists('./images_and_labels/images'): os.makedirs('./images_and_labels/images')  # train, test 이미지를 저장할 파일\n",
    "if not os.path.exists('./images_and_labels/labels'): os.makedirs('./images_and_labels/labels')  # train, test의 라벨을 저장할 파일"
   ]
  },
  {
   "cell_type": "markdown",
   "metadata": {},
   "source": [
    "먼저 train 이미지를 불러오고 text label을 만들어준다. <br>\n",
    "아래 코드는 train 이미지들의 label을 만들어주는 코드다."
   ]
  },
  {
   "cell_type": "code",
   "execution_count": 1,
   "metadata": {},
   "outputs": [],
   "source": [
    "import json\n",
    "import os\n",
    "\n",
    "with open(\"../detection/dataset/train.json\", \"r\") as json_file: # label이 저장된 train.json 파일을 가져온다.\n",
    "    train_json = json.load(json_file)\n",
    "\n",
    "ann_index = 0; img_index = 0                                    # 탐색할 annotation, image에 대한 인덱스이다. image의 인덱스란 이미지의 번호를 의미한다. (0100의 경우 100이다.)\n",
    "txt_path = './images_and_labels/labels'\n",
    "\n",
    "while img_index < 4883:                                         # BBox가 저장된 모든 annotation을 탐색한다.\n",
    "    image_id = str(img_index)                                   # 이미지 번호를 형식에 맞게 저장한다. (0은 '0000', 1은 '0001' 식으로 변경)\n",
    "    while len(image_id)<4: image_id = '0'+image_id\n",
    "    txt_file = open(os.path.join(txt_path, image_id+'.txt'), 'w')\n",
    "\n",
    "    string = ''\n",
    "    while ann_index < len(train_json['annotations']):\n",
    "        annotation = train_json['annotations'][ann_index]\n",
    "        if img_index != annotation['image_id']:                 # 현재 탐색하고 있는 이미지와 id가 일치하는지 확인하고 일치하지 않으면 반복문을 탈출한다. \n",
    "            break                       \n",
    "        \n",
    "        category = annotation['category_id']                    # category_id(class number)를 가져온다.\n",
    "        coco_x, coco_y, coco_w, coco_h = annotation['bbox']     # bbox를 가져온다. (coco dataset)\n",
    "        yolo_x = (coco_x+coco_w/2)/1024                         # yolo dataset 형식으로 바꿔준다.\n",
    "        yolo_y = (coco_y+coco_h/2)/1024\n",
    "        yolo_w = coco_w/1024\n",
    "        yolo_h = coco_h/1024\n",
    "        \n",
    "        string += f'{category} {yolo_x:.6} {yolo_y:.6} {yolo_w:.6} {yolo_h:.6}\\n'\n",
    "        ann_index += 1\n",
    "    txt_file.write(string.rstrip())\n",
    "    txt_file.close()\n",
    "    img_index += 1"
   ]
  },
  {
   "cell_type": "markdown",
   "metadata": {},
   "source": [
    "그리고 학습한 모델에 test 이미지를 추론시키고, 추론된 label이 담긴 txt 파일들을 현재 labels파일에 옮긴다. <br>\n",
    "test 이미지도 images 파일에 모두 옮겨야 한다.\n",
    "\n",
    "* python detect.py --img 1024 --source './data/test' --weights './runs/train/YoloV5x_label_smoothing_Hyp_tuning/weights/best.pt' --save-txt --name YoloV5x_label_smoothing_Hyp_tuning_IOU --augment --iou-thres 0.5\n",
    "\n",
    "아래는 test 이미지들을 저장하는 코드다. (약 5분 소요)"
   ]
  },
  {
   "cell_type": "code",
   "execution_count": 6,
   "metadata": {},
   "outputs": [
    {
     "name": "stdout",
     "output_type": "stream",
     "text": [
      "Complete Download Test Images\n"
     ]
    }
   ],
   "source": [
    "import numpy as np\n",
    "import os\n",
    "from PIL import Image\n",
    "\n",
    "imgs_path = './../detection/dataset/test'                       # 이미지 파일에 접근하기 위해 train_image가 저장된 path를 지정해 놓는다.\n",
    "image_id = 4883                                                 # 위에서 train image들을 저장할 때 마지막 image의 id가 4882이므로 test이미지를 저장할 때는 4883으로 시작해야 한다.\n",
    "\n",
    "for test_idx in range(4871):\n",
    "    test_id = str(test_idx)\n",
    "    save_id = str(test_idx+image_id)\n",
    "    while len(test_id)<4: test_id = '0'+test_id \n",
    "\n",
    "    save_path = './images_and_labels/images'                    # 이미지를 저장할 폴더를 지정한다.\n",
    "    img = Image.open(os.path.join(imgs_path, test_id+'.jpg'))   # 이미지를 가져오고 저장한다.\n",
    "    img.save(os.path.join(save_path, save_id+'.jpg'), 'JPEG') \n",
    "    \n",
    "print('Complete Download Test Images')"
   ]
  },
  {
   "cell_type": "markdown",
   "metadata": {},
   "source": [
    "아래는 test이미지들의 label을 가져오는 코드다."
   ]
  },
  {
   "cell_type": "code",
   "execution_count": 9,
   "metadata": {},
   "outputs": [],
   "source": [
    "label_path = '../yolov5/runs/detect/Labeling_File/labels'           # 라벨이 존재하는 폴더를 지정한다.\n",
    "save_path = './images_and_labels/labels'                            # 라벨을 저장할 폴더를 지정한다.\n",
    "\n",
    "image_id = 4883                                                     # 위에서 train image들을 저장할 때 마지막 image의 id가 4882이므로 test이미지를 저장할 때는 4883으로 시작해야 한다.\n",
    "for test_idx in range(4871):\n",
    "    test_id = str(test_idx)\n",
    "    save_id = str(test_idx+image_id)\n",
    "    while len(test_id)<4: test_id = '0'+test_id \n",
    "    try:\n",
    "        txt_file = open(os.path.join(label_path, test_id+'.txt'), 'r')   # 라벨을 가져온다.\n",
    "        lines = txt_file.readlines()\n",
    "        txt_file.close()\n",
    "    except:\n",
    "        lines = ''\n",
    "    txt_file = open(os.path.join(save_path, save_id+'.txt'), 'w')\n",
    "    txt_file.write(''.join(lines))\n",
    "    txt_file.close()"
   ]
  },
  {
   "cell_type": "markdown",
   "metadata": {},
   "source": [
    "이후 모인 train, test 이미지를 train, valid 셋으로 나눠준다. <br>\n",
    "먼저 필요한 파일들을 생성하자."
   ]
  },
  {
   "cell_type": "code",
   "execution_count": 10,
   "metadata": {},
   "outputs": [],
   "source": [
    "if not os.path.exists('./train'): os.makedirs('./train')                # train images, labels 파일을 담을 파일\n",
    "if not os.path.exists('./train/images'): os.makedirs('./train/images')  \n",
    "if not os.path.exists('./train/labels'): os.makedirs('./train/labels')  \n",
    "if not os.path.exists('./valid'): os.makedirs('./valid')                # valid images, labels 파일을 담을 파일\n",
    "if not os.path.exists('./valid/images'): os.makedirs('./valid/images')  \n",
    "if not os.path.exists('./valid/labels'): os.makedirs('./valid/labels')  "
   ]
  },
  {
   "cell_type": "code",
   "execution_count": 11,
   "metadata": {},
   "outputs": [
    {
     "name": "stdout",
     "output_type": "stream",
     "text": [
      "train imgs 개수: 7803 / valid imgs 개수: 1951\n",
      "Complete Download Train Images\n",
      "Complete Download Valid Images\n"
     ]
    }
   ],
   "source": [
    "import numpy as np\n",
    "import os\n",
    "from sklearn.model_selection import train_test_split\n",
    "from PIL import Image\n",
    "\n",
    "imgs = [str(i) for i in range(9754)]                            # 이미지들에 접근하기 위해 형태에 맞게 이미지 번호를 저장한다. (index->0~9753)\n",
    "for i in range(len(imgs)):\n",
    "    while len(imgs[i])<4: imgs[i] = '0'+imgs[i] \n",
    "\n",
    "np.random.seed(777)                                             # random seed를 고정한다.\n",
    "np.random.shuffle(imgs)                                         # 이미지 번호를 섞어준다.\n",
    "\n",
    "train_imgs, valid_imgs = train_test_split(imgs, test_size=0.2)  # random seed는 위에서 지정했으므로 지정하지 않아도 된다.\n",
    "train_imgs.sort()                                               \n",
    "valid_imgs.sort()\n",
    "\n",
    "imgs_path = './images_and_labels/images'                        # 이미지 파일에 접근하기 image가 저장된 path를 지정해 놓는다.\n",
    "\n",
    "print(f'train imgs 개수: {len(train_imgs)} / valid imgs 개수: {len(valid_imgs)}')\n",
    "\n",
    "for train_img in train_imgs:\n",
    "    save_path = './train/images'                                # 이미지를 저장할 폴더를 지정한다.\n",
    "    if not os.path.exists(save_path): os.makedirs(save_path)    # 해당 폴더가 없으면 생성한다.\n",
    "    img = Image.open(os.path.join(imgs_path, train_img+'.jpg')) # 이미지를 가져오고 저장한다.\n",
    "    img.save(os.path.join(save_path, train_img+'.jpg'), 'JPEG') \n",
    "\n",
    "print('Complete Download Train Images')\n",
    "    \n",
    "for valid_img in valid_imgs:\n",
    "    save_path = './valid/images'                                # 이미지를 저장할 폴더를 지정한다.\n",
    "    if not os.path.exists(save_path): os.makedirs(save_path)    # 해당 폴더가 없으면 생성한다.\n",
    "    img = Image.open(os.path.join(imgs_path, valid_img+'.jpg')) # 이미지를 가져오고 저장한다.\n",
    "    img.save(os.path.join(save_path, valid_img+'.jpg'), 'JPEG')\n",
    "    \n",
    "print('Complete Download Valid Images')"
   ]
  },
  {
   "cell_type": "code",
   "execution_count": 12,
   "metadata": {},
   "outputs": [
    {
     "name": "stdout",
     "output_type": "stream",
     "text": [
      "Complete Download Train Labels\n",
      "Complete Download Valid Labels\n"
     ]
    }
   ],
   "source": [
    "import shutil\n",
    "\n",
    "labels_path = './images_and_labels/labels'                         \n",
    "\n",
    "for train_img in train_imgs:\n",
    "    save_path = './train/labels'                                    \n",
    "    if not os.path.exists(save_path): os.makedirs(save_path)        \n",
    "    shutil.copy(os.path.join(labels_path, train_img+'.txt'), save_path)     \n",
    "\n",
    "print('Complete Download Train Labels')\n",
    "    \n",
    "for valid_img in valid_imgs:\n",
    "    save_path = './valid/labels'                                    \n",
    "    if not os.path.exists(save_path): os.makedirs(save_path)        \n",
    "    shutil.copy(os.path.join(labels_path, valid_img+'.txt'), save_path)  \n",
    "    \n",
    "print('Complete Download Valid Labels')"
   ]
  },
  {
   "cell_type": "markdown",
   "metadata": {},
   "source": [
    "train, valid의 label 분포를 확인해보자. <br>\n",
    "어느 정도 비슷한 분포를 가지는 것을 확인할 수 있다."
   ]
  },
  {
   "cell_type": "code",
   "execution_count": 13,
   "metadata": {},
   "outputs": [
    {
     "data": {
      "image/png": "[encoded data removed]",
      "text/plain": [
       "<Figure size 720x360 with 1 Axes>"
      ]
     },
     "metadata": {
      "needs_background": "light"
     },
     "output_type": "display_data"
    }
   ],
   "source": [
    "import os\n",
    "import numpy as np\n",
    "import matplotlib.pyplot as plt\n",
    "from sklearn.model_selection import train_test_split\n",
    "\n",
    "imgs = [str(i) for i in range(9754)]                            \n",
    "for i in range(len(imgs)):\n",
    "    while len(imgs[i])<4: imgs[i] = '0'+imgs[i] \n",
    "\n",
    "\n",
    "train_txts_path = './train/labels'\n",
    "valid_txts_path = './valid/labels'\n",
    "\n",
    "train_images = [0 for _ in range(10)]\n",
    "valid_images = [0 for _ in range(10)]\n",
    "\n",
    "\n",
    "for img in imgs:\n",
    "    txt_path = os.path.join(train_txts_path, img+'.txt')\n",
    "    if not os.path.exists(txt_path):\n",
    "        continue\n",
    "    txt_file = open(txt_path, 'r')\n",
    "    lines = txt_file.readlines()\n",
    "    \n",
    "    for line in lines:\n",
    "        category, x, y, w, h = line.split()\n",
    "        train_images[int(category)] += 1\n",
    "    \n",
    "    txt_file.close()\n",
    "\n",
    "for img in imgs:\n",
    "    txt_path = os.path.join(valid_txts_path, img+'.txt')\n",
    "    if not os.path.exists(txt_path):\n",
    "        continue\n",
    "    txt_file = open(txt_path, 'r')\n",
    "    lines = txt_file.readlines()\n",
    "    \n",
    "    for line in lines:\n",
    "        category, x, y, w, h = line.split()\n",
    "        valid_images[int(category)] += 1\n",
    "    \n",
    "    txt_file.close()\n",
    "\n",
    "plt.figure(figsize=(10,5))\n",
    "index = np.arange(10)\n",
    "plt.bar(index-0.125, train_images, width=0.25, color='blue')\n",
    "plt.bar(index+0.125, valid_images, width=0.25, color='orange')\n",
    "plt.xticks(index, ['General trash', 'Paper', 'Paper pack', 'Metal', 'Glass', 'Plastic', 'Styrofoam', 'Plastic bag', 'Battery', 'Clothing'])\n",
    "plt.show()"
   ]
  },
  {
   "cell_type": "markdown",
   "metadata": {},
   "source": [
    "이후 해당 파일들을 yolov5에 넘겨주면 된다."
   ]
  }
 ],
 "metadata": {
  "kernelspec": {
   "display_name": "detection",
   "language": "python",
   "name": "detection"
  },
  "language_info": {
   "codemirror_mode": {
    "name": "ipython",
    "version": 3
   },
   "file_extension": ".py",
   "mimetype": "text/x-python",
   "name": "python",
   "nbconvert_exporter": "python",
   "pygments_lexer": "ipython3",
   "version": "3.7.11"
  },
  "orig_nbformat": 4
 },
 "nbformat": 4,
 "nbformat_minor": 2
}
