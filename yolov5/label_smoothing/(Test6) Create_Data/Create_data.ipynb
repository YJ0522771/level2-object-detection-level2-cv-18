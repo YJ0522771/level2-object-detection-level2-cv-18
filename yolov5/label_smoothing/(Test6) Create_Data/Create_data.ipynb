{
 "cells": [
  {
   "cell_type": "markdown",
   "metadata": {},
   "source": [
    "<h3> <strong> 1. 실험 </strong> </h3>\n",
    "\n",
    "아래는 다른 분이 제공해 주신 augmentation 기법으로 변형시킨 이미지를 직접 폴더에 저장해 훈련시 사용하는 코드를 활용하여 라벨과 이미지를 폴더에 저장하는 코드이다."
   ]
  },
  {
   "cell_type": "code",
   "execution_count": 7,
   "metadata": {},
   "outputs": [],
   "source": [
    "import os\n",
    "\n",
    "if not os.path.exists('./train'): os.makedirs('./train')\n",
    "if not os.path.exists('./valid'): os.makedirs('./valid')"
   ]
  },
  {
   "cell_type": "code",
   "execution_count": 9,
   "metadata": {},
   "outputs": [
    {
     "name": "stdout",
     "output_type": "stream",
     "text": [
      "train imgs 개수: 7600 / valid imgs 개수: 1901\n",
      "Complete Download Train Images\n",
      "Complete Download Valid Images\n"
     ]
    }
   ],
   "source": [
    "import numpy as np\n",
    "import os\n",
    "from sklearn.model_selection import train_test_split\n",
    "from PIL import Image\n",
    "\n",
    "imgs = [str(i) for i in range(9501)]                            # 이미지들에 접근하기 위해 형태에 맞게 이미지 번호를 저장한다.\n",
    "for i in range(len(imgs)):\n",
    "    while len(imgs[i])<4: imgs[i] = '0'+imgs[i] \n",
    "\n",
    "np.random.seed(42)                                              # random seed를 고정한다.\n",
    "np.random.shuffle(imgs)                                         # 이미지 번호를 섞어준다.\n",
    "\n",
    "train_imgs, valid_imgs = train_test_split(imgs, test_size=0.2)  # random seed는 위에서 지정했으므로 지정하지 않아도 된다.\n",
    "train_imgs.sort()                                               # images 저장 과정에서는 필요없지만 이후 labels 저장을 위해 정렬해준다.\n",
    "valid_imgs.sort()\n",
    "\n",
    "imgs_path = './../detection/dataset/train_aug'                      # 이미지 파일에 접근하기 위해 train_image가 저장된 path를 지정해 놓는다.\n",
    "\n",
    "print(f'train imgs 개수: {len(train_imgs)} / valid imgs 개수: {len(valid_imgs)}')\n",
    "\n",
    "save_path = './train/images'                                    # 이미지를 저장할 폴더를 지정한다.\n",
    "if not os.path.exists(save_path): os.makedirs(save_path)        # 해당 폴더가 없으면 생성한다.\n",
    "for train_img in train_imgs:\n",
    "    img = Image.open(os.path.join(imgs_path, train_img+'.jpg')) # 이미지를 가져오고 저장한다.\n",
    "    img.save(os.path.join(save_path, train_img+'.jpg'), 'JPEG') \n",
    "\n",
    "print('Complete Download Train Images')\n",
    "\n",
    "save_path = './valid/images'                                # 이미지를 저장할 폴더를 지정한다.\n",
    "if not os.path.exists(save_path): os.makedirs(save_path)    # 해당 폴더가 없으면 생성한다.\n",
    "for valid_img in valid_imgs:\n",
    "    img = Image.open(os.path.join(imgs_path, valid_img+'.jpg')) # 이미지를 가져오고 저장한다.\n",
    "    img.save(os.path.join(save_path, valid_img+'.jpg'), 'JPEG')\n",
    "    \n",
    "print('Complete Download Valid Images')"
   ]
  },
  {
   "cell_type": "code",
   "execution_count": 10,
   "metadata": {},
   "outputs": [],
   "source": [
    "import json\n",
    "import os\n",
    "\n",
    "with open(\"../detection/dataset/train_aug.json\", \"r\") as json_file:\n",
    "    train_json = json.load(json_file)\n",
    "\n",
    "if not os.path.exists('./train/labels'): os.makedirs('./train/labels')\n",
    "if not os.path.exists('./valid/labels'): os.makedirs('./valid/labels')\n",
    "\n",
    "train_idx = 0; valid_idx = 0                                    # 탐색하고 있는 train_img와 valid_img의 인덱스이다. train_imgs, valid_imgs는 이미지 저장 코드에서 정렬된 상태이다.\n",
    "ann_index = 0; img_index = 0                                    # 탐색할 annotation, image에 대한 인덱스이다. image의 인덱스란 이미지의 번호를 의미한다. (0100의 경우 100이다.)\n",
    "\n",
    "while img_index < 9501:                                         # BBox가 저장된 모든 annotation을 탐색한다.\n",
    "    image_id = str(img_index)                                   # 이미지 번호를 형식에 맞게 저장한다. (0은 '0000', 1은 '0001' 식으로 변경)\n",
    "    while len(image_id)<4: image_id = '0'+image_id\n",
    "    if image_id == train_imgs[train_idx]:                       # 탐색할 이미지가 train image라면 txt_path를 train 폴더로 지정한다. \n",
    "        txt_path='./train/labels'\n",
    "        if train_idx < len(train_imgs)-1: train_idx += 1        # train_idx를 갱신한다. (단, 모든 이미지가 탐색되지 않으면 위 조건문은 다시 시작되므로 train_idx는 index범위를 넘어가지 않게 설정한다.)\n",
    "    else:                                                       # 탐색할 이미지가 valid image라면 txt_path를 valid 폴더로 지정한다.\n",
    "        txt_path='./valid/labels'\n",
    "        if valid_idx < len(valid_imgs)-1: valid_idx += 1        # valid_idx를 갱신한다. (valid_idx는 사용하지 않아 갱신할 필요는 없지만 train_idx와 동일하게 갱신해준다.)\n",
    "\n",
    "    txt_file = open(os.path.join(txt_path, image_id+'.txt'), 'w')\n",
    "\n",
    "    string = ''\n",
    "    while ann_index < len(train_json['annotations']):\n",
    "        annotation = train_json['annotations'][ann_index]\n",
    "        if img_index != annotation['image_id']: \n",
    "            break                                               # 현재 탐색하고 있는 이미지와 id가 일치하는지 확인하고 일치하지 않으면 반복문을 탈출한다.\n",
    "        \n",
    "        category = annotation['category_id']                    # category_id(class number)를 가져온다.\n",
    "        coco_x, coco_y, coco_w, coco_h = annotation['bbox']     # bbox를 가져온다. (coco dataset)\n",
    "        yolo_x = (coco_x+coco_w/2)/1024                         # yolo dataset 형식으로 바꿔준다.\n",
    "        yolo_y = (coco_y+coco_h/2)/1024\n",
    "        yolo_w = coco_w/1024\n",
    "        yolo_h = coco_h/1024\n",
    "        \n",
    "        string += f'{category} {yolo_x:.6} {yolo_y:.6} {yolo_w:.6} {yolo_h:.6}\\n'\n",
    "        ann_index += 1\n",
    "    txt_file.write(string.rstrip())\n",
    "    txt_file.close()\n",
    "    img_index += 1"
   ]
  },
  {
   "cell_type": "code",
   "execution_count": 11,
   "metadata": {},
   "outputs": [
    {
     "data": {
      "image/png": "[encoded data removed]",
      "text/plain": [
       "<Figure size 720x360 with 1 Axes>"
      ]
     },
     "metadata": {
      "needs_background": "light"
     },
     "output_type": "display_data"
    }
   ],
   "source": [
    "import os\n",
    "import numpy as np\n",
    "import matplotlib.pyplot as plt\n",
    "from sklearn.model_selection import train_test_split\n",
    "\n",
    "imgs = [str(i) for i in range(4883)]                            # 이미지들에 접근하기 위해 형태에 맞게 이미지 번호를 저장한다.\n",
    "for i in range(len(imgs)):\n",
    "    while len(imgs[i])<4: imgs[i] = '0'+imgs[i] \n",
    "\n",
    "\n",
    "train_txts_path = './train/labels'\n",
    "valid_txts_path = './valid/labels'\n",
    "\n",
    "train_images = [0 for _ in range(10)]\n",
    "valid_images = [0 for _ in range(10)]\n",
    "\n",
    "\n",
    "for img in imgs:\n",
    "    txt_path = os.path.join(train_txts_path, img+'.txt')\n",
    "    if not os.path.exists(txt_path):\n",
    "        continue\n",
    "    txt_file = open(txt_path, 'r')\n",
    "    lines = txt_file.readlines()\n",
    "    \n",
    "    for line in lines:\n",
    "        category, x, y, w, h = line.split()\n",
    "        train_images[int(category)] += 1\n",
    "    \n",
    "    txt_file.close()\n",
    "\n",
    "for img in imgs:\n",
    "    txt_path = os.path.join(valid_txts_path, img+'.txt')\n",
    "    if not os.path.exists(txt_path):\n",
    "        continue\n",
    "    txt_file = open(txt_path, 'r')\n",
    "    lines = txt_file.readlines()\n",
    "    \n",
    "    for line in lines:\n",
    "        category, x, y, w, h = line.split()\n",
    "        valid_images[int(category)] += 1\n",
    "    \n",
    "    txt_file.close()\n",
    "\n",
    "plt.figure(figsize=(10,5))\n",
    "index = np.arange(10)\n",
    "plt.bar(index-0.125, train_images, width=0.25, color='blue')\n",
    "plt.bar(index+0.125, valid_images, width=0.25, color='orange')\n",
    "plt.xticks(index, ['General trash', 'Paper', 'Paper pack', 'Metal', 'Glass', 'Plastic', 'Styrofoam', 'Plastic bag', 'Battery', 'Clothing'])\n",
    "plt.show()\n"
   ]
  },
  {
   "cell_type": "markdown",
   "metadata": {},
   "source": [
    "* 학습 명령: <br>\n",
    "(1) python train.py --img 1024 --batch 8 --epochs 70 --data './data/aug_dataset.yaml' --cfg './models/yolov5x6.yaml' --weights yolov5x6.pt --hyp './runs/evolve/YoloV5x_Hyp_tuning/hyp_evolve.yaml' --label-smoothing 0.1 --name YoloV5x6_Create_Data --cache\n",
    "\n",
    "* 테스트 명령: <br>\n",
    "(1) python detect.py --img 1024 --source './data/test' --weights './runs/train/YoloV5x6_Create_Data/weights/best.pt' --save-txt --save-conf --name YoloV5x6_Create_Data --augment"
   ]
  },
  {
   "cell_type": "code",
   "execution_count": 12,
   "metadata": {},
   "outputs": [],
   "source": [
    "import pandas as pd\n",
    "import os\n",
    "\n",
    "df = pd.DataFrame(index=[i for i in range(4871)], columns=['PredictionString', 'image_id'])\n",
    "yolo_path = './../yolov5/runs/detect/YoloV5x6_Create_Data/labels'\n",
    "for img_index in range(4871):\n",
    "    image_id = str(img_index)\n",
    "    while len(image_id)<4: image_id = '0'+image_id\n",
    "\n",
    "    PredictionString = ''\n",
    "    try: \n",
    "        txt_file = open(os.path.join(yolo_path, image_id+'.txt'), 'r')\n",
    "        lines = txt_file.readlines()\n",
    "    \n",
    "        for line in lines:\n",
    "            category, yolo_x, yolo_y, yolo_w, yolo_h, pred = (line.split())\n",
    "            x_min = (float(yolo_x)-float(yolo_w)/2)*1024\n",
    "            y_min = (float(yolo_y)-float(yolo_h)/2)*1024\n",
    "            x_max = x_min+float(yolo_w)*1024\n",
    "            y_max = y_min+float(yolo_h)*1024\n",
    "            PredictionString += f'{category} {pred} {x_min} {y_min} {x_max} {y_max} '\n",
    "        txt_file.close()\n",
    "    except FileNotFoundError:\n",
    "        pass\n",
    "    \n",
    "    df.iloc[img_index] = [PredictionString, 'test/'+image_id+'.jpg']\n",
    "\n",
    "df.to_csv('./YoloV5x6__Create_Data.csv', index=False)"
   ]
  },
  {
   "cell_type": "markdown",
   "metadata": {},
   "source": [
    "<h3> <strong> 2. 결과 </strong> </h3>\n",
    "\n",
    "기존 0.5587 mAP에서 0.5630 mAP로 약 0.05 정도 성능이 향상되었다."
   ]
  }
 ],
 "metadata": {
  "kernelspec": {
   "display_name": "detection",
   "language": "python",
   "name": "detection"
  },
  "language_info": {
   "codemirror_mode": {
    "name": "ipython",
    "version": 3
   },
   "file_extension": ".py",
   "mimetype": "text/x-python",
   "name": "python",
   "nbconvert_exporter": "python",
   "pygments_lexer": "ipython3",
   "version": "3.7.11"
  },
  "orig_nbformat": 4
 },
 "nbformat": 4,
 "nbformat_minor": 2
}
