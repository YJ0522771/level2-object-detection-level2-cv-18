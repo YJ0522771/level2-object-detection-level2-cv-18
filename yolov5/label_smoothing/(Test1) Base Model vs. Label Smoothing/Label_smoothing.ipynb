{
 "cells": [
  {
   "cell_type": "markdown",
   "metadata": {},
   "source": [
    "해당 파일은 Label-smoothing의 효과와 Hyperparameter Evolution 기법을 통한 Hyperparameter Tuning의 효과를 실험해본 결과를 담고 있다. <br>\n",
    "아래 명령을 수행하면 최적의 하이퍼파라미터가 ./runs/evolve/{--name}/hyp_evolve.yaml 파일에 저장된다.\n",
    "\n",
    "* python train.py --img 1024 --batch 16 --epochs 10 --data './data/dataset.yaml' --cfg './models/yolov5x.yaml' --weights yolov5x.pt --hyp './data/hyps/hyp.scratch-high.yaml' --label-smoothing 0.1 --name YoloV5x_Hyp_tuning --cache --evolve\n",
    "\n",
    "[참고] 학습이 너무 오래 걸려서 16번 후 종료했다. (약 10~11시간 소요)"
   ]
  },
  {
   "cell_type": "markdown",
   "metadata": {},
   "source": [
    "<h3> <strong> 1. 실험 </strong> </h3>\n",
    "\n",
    "<h4> <strong>[비교] (기본 모델/label-smoothing 적용/label-smoothing 적용+Hyperparmeter Evolution)</strong> </h4>\n",
    "\n",
    "**학습 명령**\n",
    "* python train.py --img 1024 --batch 8 --epochs 70 --data './data/dataset.yaml' --cfg './models/yolov5x.yaml' --weights yolov5x.pt --hyp './data/hyps/hyp.scratch-high.yaml' --name YoloV5x_base --cache\n",
    "* python train.py --img 1024 --batch 8 --epochs 70 --data './data/dataset.yaml' --cfg './models/yolov5x.yaml' --weights yolov5x.pt --hyp './data/hyps/hyp.scratch-high.yaml' --label-smoothing 0.1 --name YoloV5x_label_smoothing --cache\n",
    "* python train.py --img 1024 --batch 8 --epochs 70 --data './data/dataset.yaml' --cfg './models/yolov5x.yaml' --weights yolov5x.pt --hyp './runs/evolve/YoloV5x_Hyp_tuning/hyp_evolve.yaml' --label-smoothing 0.1 --name YoloV5x_label_smoothing_Hyp_tuning --cache\n",
    "\n",
    "**테스트 명령**\n",
    "* python detect.py --img 1024 --source './data/test' --weights './runs/train/YoloV5x_base/weights/best.pt' --save-txt --save-conf --name YoloV5x_base\n",
    "* python detect.py --img 1024 --source './data/test' --weights './runs/train/YoloV5x_label_smoothing/weights/best.pt' --save-txt --save-conf --name YoloV5x_label_smoothing\n",
    "* python detect.py --img 1024 --source './data/test' --weights './runs/train/YoloV5x_label_smoothing_Hyp_tuning/weights/best.pt' --save-txt --save-conf --name YoloV5x_label_smoothing_Hyp_tuning\n",
    "* python detect.py --img 1024 --source './data/test' --weights './runs/train/YoloV5x_label_smoothing_Hyp_tuning/weights/best.pt' --save-txt --save-conf --name YoloV5x_label_smoothing_Hyp_tuning_TTA --augment\n",
    "* python detect.py --img 1024 --source './data/test' --weights './runs/train/YoloV5x_label_smoothing_Hyp_tuning/weights/best.pt' --save-txt --save-conf --name YoloV5x_label_smoothing_Hyp_tuning_IOU --augment --iou-thres 0.3\n",
    "\n",
    "**[Exception ignored in: <function StorageWeakRef.__del__ at ...> Error]** \n",
    "\n",
    "해당 명령을 터미널에 입력하면 해결 가능하다고 한다.\n",
    "\n",
    "* pip install --upgrade --force-reinstall torch==1.8.0 torchvision==0.9.0 torchaudio==0.8.0"
   ]
  },
  {
   "cell_type": "markdown",
   "metadata": {},
   "source": [
    "아래는 제출을 위해 submission.csv 파일을 제작하기 위한 코드이다."
   ]
  },
  {
   "cell_type": "code",
   "execution_count": 1,
   "metadata": {},
   "outputs": [],
   "source": [
    "import pandas as pd\n",
    "import os\n",
    "\n",
    "df = pd.DataFrame(index=[i for i in range(4871)], columns=['PredictionString', 'image_id'])\n",
    "\n",
    "yolo_path = './../yolov5/runs/detect/YoloV5x_label_smoothing_Hyp_tuning_IOU/labels'\n",
    "for img_index in range(4871):\n",
    "    image_id = str(img_index)\n",
    "    while len(image_id)<4: image_id = '0'+image_id\n",
    "\n",
    "    PredictionString = ''\n",
    "    try: \n",
    "        txt_file = open(os.path.join(yolo_path, image_id+'.txt'), 'r')\n",
    "        lines = txt_file.readlines()\n",
    "    \n",
    "        for line in lines:\n",
    "            category, yolo_x, yolo_y, yolo_w, yolo_h, pred = (line.split())\n",
    "            x_min = (float(yolo_x)-float(yolo_w)/2)*1024\n",
    "            y_min = (float(yolo_y)-float(yolo_h)/2)*1024\n",
    "            x_max = x_min+float(yolo_w)*1024\n",
    "            y_max = y_min+float(yolo_h)*1024\n",
    "            PredictionString += f'{category} {pred} {x_min} {y_min} {x_max} {y_max} '\n",
    "        txt_file.close()\n",
    "    except FileNotFoundError:\n",
    "        pass\n",
    "    \n",
    "    df.iloc[img_index] = [PredictionString, 'test/'+image_id+'.jpg']\n",
    "\n",
    "df.to_csv('./YoloV5x_label_smoothing_Hyp_tuning_IOU.csv', index=False)\n"
   ]
  },
  {
   "cell_type": "markdown",
   "metadata": {},
   "source": [
    "<h3> <strong> 2. 결과 </strong> </h3>\n",
    "\n",
    "(1) Base Model: 0.4348 / 아무것도 적용하지 않은 기본 base 모델임. <br>\n",
    "(2) Label Smoothing: 0.4308 / Base Model에 label smoothing 적용시 valid loss 그래프는 더 안정적이지만 mAP 성능은 낮아짐. <br>\n",
    "(3) LS + Hyperparameter Tuning: 0.4623 / hyper evolution 기법을 사용해 최적의 hyperparameter 조합을 찾으면 성능이 향상됨. <br>\n",
    "(4) LS + HT + TTA: 0.5017. TTA 적용시 성능이 향상됨. <br>\n",
    "(5) LS + HT + TTA + Reduced IOU: 0.4944 / iou-thres 수치 감소시 성능이 0.01 정도 하락됨. 단, multi-scale 모델의 경우 성능이 오름."
   ]
  }
 ],
 "metadata": {
  "kernelspec": {
   "display_name": "detection",
   "language": "python",
   "name": "detection"
  },
  "language_info": {
   "codemirror_mode": {
    "name": "ipython",
    "version": 3
   },
   "file_extension": ".py",
   "mimetype": "text/x-python",
   "name": "python",
   "nbconvert_exporter": "python",
   "pygments_lexer": "ipython3",
   "version": "3.7.11"
  }
 },
 "nbformat": 4,
 "nbformat_minor": 4
}
