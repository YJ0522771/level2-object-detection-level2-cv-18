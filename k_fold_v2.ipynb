{
 "cells": [
  {
   "cell_type": "code",
   "execution_count": 6,
   "metadata": {},
   "outputs": [
    {
     "name": "stderr",
     "output_type": "stream",
     "text": [
      "100%|██████████| 10/10 [00:11<00:00,  1.17s/it]"
     ]
    },
    {
     "name": "stdout",
     "output_type": "stream",
     "text": [
      "Done Make files\n"
     ]
    },
    {
     "name": "stderr",
     "output_type": "stream",
     "text": [
      "\n"
     ]
    }
   ],
   "source": [
    "import json\n",
    "import numpy as np\n",
    "import pandas as pd\n",
    "import argparse\n",
    "import os\n",
    "from tqdm import tqdm\n",
    "\n",
    "from iterstrat.ml_stratifiers import MultilabelStratifiedKFold\n",
    "\n",
    "# image 경로\n",
    "data_path = '/opt/ml/ level2-object-detection-level2-cv-18/dataset'\n",
    "images_path = os.path.join(data_path, 'train_aug')\n",
    "\n",
    "# annotation 경로\n",
    "annotations_path = os.path.join(data_path, 'train_aug_correct.json')\n",
    "\n",
    "# 생성할 fold 개수\n",
    "kfold = 10\n",
    "\n",
    "# 생성된 fold를 저장할 폴더 경로 지정\n",
    "path = './stratified_kfold'\n",
    "\n",
    "# Stratified kfold 진행\n",
    "def main():\n",
    "    with open(annotations_path, 'r') as f:\n",
    "        train_json = json.loads(f.read())\n",
    "        images = train_json['images']\n",
    "        categories = train_json['categories']\n",
    "        annotations = train_json['annotations']\n",
    "\n",
    "    annotations_df = pd.DataFrame.from_dict(annotations)\n",
    "    x = images\n",
    "    y = [[0] * len(categories) for _ in range(len(images))]\n",
    "    for anno in annotations:\n",
    "        y[anno['image_id']][anno['category_id']] += 1\n",
    "\n",
    "    mskf = MultilabelStratifiedKFold(n_splits=kfold, shuffle=True)\n",
    "\n",
    "\n",
    "    if not os.path.exists(path):\n",
    "        os.mkdir(path)\n",
    "\n",
    "    for idx, (train_index, val_index) in tqdm(enumerate(mskf.split(x, y)), total=kfold):\n",
    "        train_dict = dict()\n",
    "        val_dict = dict()\n",
    "        for i in ['info', 'licenses', 'categories']:\n",
    "            train_dict[i] = train_json[i]\n",
    "            val_dict[i] = train_json[i]\n",
    "        train_dict['images'] = np.array(images)[train_index].tolist()\n",
    "        val_dict['images'] = np.array(images)[val_index].tolist()\n",
    "        train_dict['annotations'] = annotations_df[annotations_df['image_id'].isin(train_index)].to_dict('records')\n",
    "        val_dict['annotations'] = annotations_df[annotations_df['image_id'].isin(val_index)].to_dict('records')\n",
    "\n",
    "        train_dir = os.path.join(path, f'cv_train_{idx + 1}.json')\n",
    "        val_dir = os.path.join(path, f'cv_val_{idx + 1}.json')\n",
    "        with open(train_dir, 'w') as train_file:\n",
    "            json.dump(train_dict, train_file)\n",
    "\n",
    "        with open(val_dir, 'w') as val_file:\n",
    "            json.dump(val_dict, val_file)\n",
    "\n",
    "    print(\"Done Make files\")\n",
    "\n",
    "\n",
    "# if __name__ == \"__main__\":\n",
    "#     parser = argparse.ArgumentParser()\n",
    "#     parser.add_argument('--path', '-p', type=str, default='./stratified_kfold')\n",
    "#     parser.add_argument('--n_split', '-n', type=int, default=5)\n",
    "#     arg = parser.parse_args()\n",
    "#     main(arg)\n",
    "main()"
   ]
  },
  {
   "cell_type": "code",
   "execution_count": null,
   "metadata": {},
   "outputs": [],
   "source": []
  }
 ],
 "metadata": {
  "interpreter": {
   "hash": "b94c6de4bce9a87a354a5fa9998691adc0532adddb9d4140f5ba941d00b01fae"
  },
  "kernelspec": {
   "display_name": "Python 3.7.11 ('detection')",
   "language": "python",
   "name": "python3"
  },
  "language_info": {
   "codemirror_mode": {
    "name": "ipython",
    "version": 3
   },
   "file_extension": ".py",
   "mimetype": "text/x-python",
   "name": "python",
   "nbconvert_exporter": "python",
   "pygments_lexer": "ipython3",
   "version": "3.7.11"
  },
  "orig_nbformat": 4
 },
 "nbformat": 4,
 "nbformat_minor": 2
}
