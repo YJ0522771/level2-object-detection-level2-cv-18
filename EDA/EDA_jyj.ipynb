{
 "cells": [
  {
   "cell_type": "code",
   "execution_count": 2,
   "id": "904b8cc7-5500-4aab-b4c7-820a696eaea0",
   "metadata": {},
   "outputs": [],
   "source": [
    "import json\n",
    "import matplotlib as mpl \n",
    "import matplotlib.pyplot as plt\n",
    "import random\n",
    "import numpy as np\n",
    "import cv2\n",
    "import os\n",
    "from pycocotools.coco import COCO"
   ]
  },
  {
   "cell_type": "code",
   "execution_count": 3,
   "id": "2bc116c4-7cdd-4710-b163-8405c86268be",
   "metadata": {},
   "outputs": [
    {
     "name": "stdout",
     "output_type": "stream",
     "text": [
      "dict_keys(['info', 'licenses', 'images', 'categories', 'annotations'])\n"
     ]
    }
   ],
   "source": [
    "GT_JSON = './detection/dataset/train.json'\n",
    "\n",
    "with open(GT_JSON, 'r') as outfile:\n",
    "    train_data = (json.load(outfile))\n",
    "    \n",
    "print(train_data.keys())"
   ]
  },
  {
   "cell_type": "code",
   "execution_count": 4,
   "id": "2aca90b0-b526-4060-9519-85b7b3f25b21",
   "metadata": {},
   "outputs": [
    {
     "name": "stdout",
     "output_type": "stream",
     "text": [
      "{0: 'General trash', 1: 'Paper', 2: 'Paper pack', 3: 'Metal', 4: 'Glass', 5: 'Plastic', 6: 'Styrofoam', 7: 'Plastic bag', 8: 'Battery', 9: 'Clothing'}\n"
     ]
    }
   ],
   "source": [
    "category_names = {}\n",
    "for n in train_data['categories']:\n",
    "    category_names[n['id']] = n['name']\n",
    "print(category_names)"
   ]
  },
  {
   "cell_type": "code",
   "execution_count": 5,
   "id": "ee347c71-1baf-4d55-afdb-ea17039a46ed",
   "metadata": {},
   "outputs": [
    {
     "name": "stdout",
     "output_type": "stream",
     "text": [
      "{'General trash': 0, 'Paper': 0, 'Paper pack': 0, 'Metal': 0, 'Glass': 0, 'Plastic': 0, 'Styrofoam': 0, 'Plastic bag': 0, 'Battery': 0, 'Clothing': 0}\n"
     ]
    }
   ],
   "source": [
    "category_count = {}\n",
    "for c in category_names.keys():\n",
    "    category_count[category_names[c]] = 0\n",
    "    \n",
    "print(category_count)"
   ]
  },
  {
   "cell_type": "code",
   "execution_count": 6,
   "id": "895442f1-26d5-4951-85c4-949c31021498",
   "metadata": {},
   "outputs": [
    {
     "name": "stdout",
     "output_type": "stream",
     "text": [
      "{'General trash': 3966, 'Paper': 6352, 'Paper pack': 897, 'Metal': 936, 'Glass': 982, 'Plastic': 2943, 'Styrofoam': 1263, 'Plastic bag': 5178, 'Battery': 159, 'Clothing': 468}\n"
     ]
    }
   ],
   "source": [
    "for anno in train_data['annotations']:\n",
    "    i = anno['category_id']\n",
    "    cate = category_names[i]\n",
    "    category_count[cate] += 1\n",
    "    \n",
    "print(category_count)"
   ]
  },
  {
   "cell_type": "code",
   "execution_count": 47,
   "id": "0f3c075d-a98b-4b31-8774-4a5674475cce",
   "metadata": {},
   "outputs": [],
   "source": [
    "def bar_graph(data, title):\n",
    "    fig, ax = plt.subplots(1, 1, figsize=(15, 6))\n",
    "    ax.bar(data.keys(), data.values(),\n",
    "           width=0.65, \n",
    "           color='royalblue',\n",
    "           linewidth=1,\n",
    "           edgecolor='black'\n",
    "          )\n",
    "\n",
    "    ax.margins(0.001, 0.1)\n",
    "    ax.set(frame_on=False) # 테두리(축 포함) 없애기\n",
    "    ax.set_yticks([]) # y축 눈금 없애기\n",
    "    ax.set_xticks(sorted(data.keys()))\n",
    "    # ax.set_xticklabels(data.keys())\n",
    "\n",
    "    ax.set_title(title, fontsize=14, fontweight='semibold')\n",
    "\n",
    "    for idx, val in data.items():\n",
    "        ax.text(x=idx, y=val+50, s=val, \n",
    "                va='bottom', ha='center', # 막대의 중앙, 막대 위 배치\n",
    "                fontsize=11, fontweight='semibold',\n",
    "                # rotation=90\n",
    "               )\n",
    "\n",
    "    plt.show()"
   ]
  },
  {
   "cell_type": "code",
   "execution_count": 20,
   "id": "4c733294-6b62-4fda-b731-2b2c0bbbe303",
   "metadata": {},
   "outputs": [
    {
     "name": "stderr",
     "output_type": "stream",
     "text": [
      "/opt/conda/envs/detection/lib/python3.7/site-packages/ipykernel_launcher.py:13: UserWarning: FixedFormatter should only be used together with FixedLocator\n",
      "  del sys.path[0]\n"
     ]
    },
    {
     "data": {
      "image/png": "[encoded data removed]",
      "text/plain": [
       "<Figure size 720x432 with 1 Axes>"
      ]
     },
     "metadata": {
      "needs_background": "light"
     },
     "output_type": "display_data"
    }
   ],
   "source": [
    "bar_graph(category_count, 'Trash Category')"
   ]
  },
  {
   "cell_type": "code",
   "execution_count": 12,
   "id": "f26c3d73-5811-47be-94e0-86303fa00aab",
   "metadata": {},
   "outputs": [
    {
     "name": "stdout",
     "output_type": "stream",
     "text": [
      "{'General trash': 17.136190805392324, 'Paper': 27.445558244037333, 'Paper pack': 3.8757345316280682, 'Metal': 4.044244728655375, 'Glass': 4.243000345661942, 'Plastic': 12.716038714137573, 'Styrofoam': 5.457137919115105, 'Plastic bag': 22.372969236087105, 'Battery': 0.6870031109574836, 'Clothing': 2.0221223643276875}\n"
     ]
    }
   ],
   "source": [
    "category_ratio = {}\n",
    "s = sum(category_count.values())\n",
    "for key in category_count.keys():\n",
    "    category_ratio[key] = category_count[key] / s * 100\n",
    "print(category_ratio)"
   ]
  },
  {
   "cell_type": "code",
   "execution_count": 40,
   "id": "59233845-9794-4da5-95cb-9ebe9c2fb046",
   "metadata": {},
   "outputs": [
    {
     "name": "stdout",
     "output_type": "stream",
     "text": [
      "4883\n"
     ]
    }
   ],
   "source": [
    "box_count = [0] * len(train_data['images'])\n",
    "print(len(box_count))"
   ]
  },
  {
   "cell_type": "code",
   "execution_count": 41,
   "id": "f9ac13fa-3eda-44c8-b157-6dd0a55a485a",
   "metadata": {},
   "outputs": [
    {
     "name": "stdout",
     "output_type": "stream",
     "text": [
      "23144\n",
      "{1: 1980, 2: 783, 3: 405, 4: 259, 5: 218, 6: 166, 7: 157, 8: 102, 9: 107, 10: 88, 11: 67, 12: 66, 13: 48, 14: 46, 15: 45, 16: 49, 17: 40, 18: 27, 19: 23, 20: 23, 21: 16, 22: 20, 23: 15, 24: 16, 25: 14, 26: 17, 27: 11, 28: 13, 29: 5, 30: 5, 31: 9, 32: 9, 33: 3, 34: 6, 35: 3, 37: 3, 38: 3, 39: 2, 40: 3, 41: 1, 42: 2, 44: 1, 46: 3, 48: 1, 52: 1, 55: 1, 71: 1}\n"
     ]
    }
   ],
   "source": [
    "print(len(train_data['annotations']))\n",
    "for anno in train_data['annotations']:\n",
    "    i = anno['image_id']\n",
    "    box_count[i] += 1\n",
    "    \n",
    "count_dic = {}\n",
    "for cnt in box_count:\n",
    "    if cnt in count_dic.keys():\n",
    "        count_dic[cnt] += 1\n",
    "    else:\n",
    "        count_dic[cnt] = 1\n",
    "        \n",
    "sorted_count_dic = {}\n",
    "for i in sorted(count_dic.keys()):\n",
    "    sorted_count_dic[i] = count_dic[i]\n",
    "    \n",
    "print(sorted_count_dic)"
   ]
  },
  {
   "cell_type": "code",
   "execution_count": 68,
   "id": "1240b911-9a93-49cb-b439-841dcbc45a41",
   "metadata": {},
   "outputs": [
    {
     "data": {
      "image/png": "[encoded data removed]",
      "text/plain": [
       "<Figure size 1080x432 with 1 Axes>"
      ]
     },
     "metadata": {
      "needs_background": "light"
     },
     "output_type": "display_data"
    }
   ],
   "source": [
    "bar_graph(sorted_count_dic, 'Box Count in each image')"
   ]
  },
  {
   "cell_type": "code",
   "execution_count": 42,
   "id": "46200946-be71-4a56-bbb4-72ae6ccdb4a0",
   "metadata": {},
   "outputs": [
    {
     "name": "stdout",
     "output_type": "stream",
     "text": [
      "4197\n"
     ]
    }
   ],
   "source": [
    "print(box_count.index(71))"
   ]
  },
  {
   "cell_type": "code",
   "execution_count": 44,
   "id": "c3880ef1-68a2-455a-9274-1dd27450d3c8",
   "metadata": {},
   "outputs": [
    {
     "name": "stdout",
     "output_type": "stream",
     "text": [
      "23144\n"
     ]
    }
   ],
   "source": [
    "t = 0\n",
    "for b in count_dic.keys():\n",
    "    t += count_dic[b] * b\n",
    "    \n",
    "print(t)"
   ]
  },
  {
   "cell_type": "code",
   "execution_count": 40,
   "id": "4c072b28-5391-40f2-9b9e-154c6c750f80",
   "metadata": {},
   "outputs": [
    {
     "name": "stdout",
     "output_type": "stream",
     "text": [
      "4883\n"
     ]
    }
   ],
   "source": [
    "print(len(train_data['images']))"
   ]
  },
  {
   "cell_type": "code",
   "execution_count": 69,
   "id": "2018f504-dbcc-4275-9f63-db1d7c3ba9be",
   "metadata": {},
   "outputs": [
    {
     "name": "stdout",
     "output_type": "stream",
     "text": [
      "{'width': 1024, 'height': 1024, 'file_name': 'train/0000.jpg', 'license': 0, 'flickr_url': None, 'coco_url': None, 'date_captured': '2020-12-26 14:44:23', 'id': 0}\n"
     ]
    }
   ],
   "source": [
    "print(train_data['images'][0])"
   ]
  },
  {
   "cell_type": "code",
   "execution_count": 43,
   "id": "0005fe88-5d88-4cac-bddc-5d59cae68d52",
   "metadata": {},
   "outputs": [],
   "source": [
    "category_in_img = [[0] * 10 for _ in range(len(train_data['images']))]\n",
    "for img_id in range(len(train_data['images'])):\n",
    "    ann_ids = coco.getAnnIds(imgIds=img_id)\n",
    "    ann_info_list = coco.loadAnns(ann_ids)\n",
    "    for ann_info in ann_info_list:\n",
    "        category_in_img[img_id][ann_info['category_id']] += 1"
   ]
  },
  {
   "cell_type": "code",
   "execution_count": 44,
   "id": "ac12247f-7828-4e2e-ae88-97e789f60f3f",
   "metadata": {},
   "outputs": [
    {
     "name": "stdout",
     "output_type": "stream",
     "text": [
      "{1: 2527, 5: 187, 2: 1134, 4: 347, 3: 605, 6: 66, 7: 17}\n"
     ]
    }
   ],
   "source": [
    "category_in_img_count = {}\n",
    "for cate in category_in_img:\n",
    "    temp = 10 - cate.count(0)\n",
    "    if temp in category_in_img_count.keys():\n",
    "        category_in_img_count[temp] += 1\n",
    "    else:\n",
    "        category_in_img_count[temp] = 1\n",
    "        \n",
    "print(category_in_img_count)"
   ]
  },
  {
   "cell_type": "code",
   "execution_count": 49,
   "id": "2b6326b6-8f07-4e3a-86a9-fd9253d51fe0",
   "metadata": {},
   "outputs": [
    {
     "data": {
      "image/png": "[encoded data removed]",
      "text/plain": [
       "<Figure size 1080x432 with 1 Axes>"
      ]
     },
     "metadata": {
      "needs_background": "light"
     },
     "output_type": "display_data"
    }
   ],
   "source": [
    "category_in_img_count_sorted = {}\n",
    "for k in sorted(category_in_img_count.keys()):\n",
    "    category_in_img_count_sorted[k] = category_in_img_count[k]\n",
    "    \n",
    "bar_graph(category_in_img_count_sorted, '# of class in each image')"
   ]
  },
  {
   "cell_type": "code",
   "execution_count": 57,
   "id": "5bd69fca-7f4d-480e-a556-a593480ed53d",
   "metadata": {},
   "outputs": [],
   "source": [
    "ww = []\n",
    "hh = []\n",
    "scales = []\n",
    "for ann in train_data['annotations']:\n",
    "    ww.append(ann['bbox'][2])\n",
    "    hh.append(ann['bbox'][3])\n",
    "    # if ann['bbox'][2] == 0.7:\n",
    "    #     print(ann['bbox'])\n",
    "    scales.append(ann['bbox'][2] / ann['bbox'][3])"
   ]
  },
  {
   "cell_type": "code",
   "execution_count": 56,
   "id": "0cd9000c-43f0-49c7-b55e-af094884dc39",
   "metadata": {},
   "outputs": [
    {
     "name": "stdout",
     "output_type": "stream",
     "text": [
      "max width : 1023.9\n",
      "min width : 0.7\n",
      "max height : 1023.9\n",
      "min height : 0.8\n",
      "------------------------\n",
      "avg width : 257.4991704113376\n",
      "avg height : 252.24151832008272\n"
     ]
    }
   ],
   "source": [
    "print('max width : ' + str(max(ww)))\n",
    "print('min width : ' + str(min(ww)))\n",
    "print('max height : ' + str(max(hh)))\n",
    "print('min height : ' + str(min(hh)))\n",
    "print('------------------------')\n",
    "print('avg width : ' + str(sum(ww) / len(ww)))\n",
    "print('avg height : ' + str(sum(hh) / len(hh)))"
   ]
  },
  {
   "cell_type": "code",
   "execution_count": 59,
   "id": "3a93aa73-81e6-46b8-8c62-248960a4d55a",
   "metadata": {},
   "outputs": [
    {
     "name": "stdout",
     "output_type": "stream",
     "text": [
      "max scale : 27.28571428571429\n",
      "min scale : 0.05539070227497527\n",
      "------------------------\n",
      "avg scale : 1.2987072717328478\n"
     ]
    }
   ],
   "source": [
    "print('max scale : ' + str(max(scales)))\n",
    "print('min scale : ' + str(min(scales)))\n",
    "print('------------------------')\n",
    "print('avg scale : ' + str(sum(scales) / len(scales)))"
   ]
  },
  {
   "cell_type": "code",
   "execution_count": 70,
   "id": "866fc4e5-2d82-4fa3-8a48-33adb8e1bc73",
   "metadata": {},
   "outputs": [
    {
     "name": "stdout",
     "output_type": "stream",
     "text": [
      "224\n"
     ]
    }
   ],
   "source": [
    "c = 0\n",
    "for i in range(len(ww)):\n",
    "    if ww[i] < 40 and hh[i] < 40:\n",
    "        c += 1\n",
    "print(c)"
   ]
  }
 ],
 "metadata": {
  "kernelspec": {
   "display_name": "Python 3 (ipykernel)",
   "language": "python",
   "name": "python3"
  },
  "language_info": {
   "codemirror_mode": {
    "name": "ipython",
    "version": 3
   },
   "file_extension": ".py",
   "mimetype": "text/x-python",
   "name": "python",
   "nbconvert_exporter": "python",
   "pygments_lexer": "ipython3",
   "version": "3.7.11"
  }
 },
 "nbformat": 4,
 "nbformat_minor": 5
}
