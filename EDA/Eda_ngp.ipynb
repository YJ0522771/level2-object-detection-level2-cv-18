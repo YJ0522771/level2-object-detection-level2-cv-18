{
 "cells": [
  {
   "cell_type": "code",
   "execution_count": 1,
   "metadata": {},
   "outputs": [],
   "source": [
    "import pandas as pd\n",
    "import numpy as np\n",
    "import matplotlib.pyplot as plt\n",
    "import os\n",
    "import json"
   ]
  },
  {
   "cell_type": "code",
   "execution_count": 4,
   "metadata": {},
   "outputs": [],
   "source": [
    "with open(\"../dataset/train.json\", \"r\") as json_file:\n",
    "    train_json = json.load(json_file)"
   ]
  },
  {
   "cell_type": "code",
   "execution_count": 5,
   "metadata": {},
   "outputs": [
    {
     "data": {
      "text/plain": [
       "dict_keys(['info', 'licenses', 'images', 'categories', 'annotations'])"
      ]
     },
     "execution_count": 5,
     "metadata": {},
     "output_type": "execute_result"
    }
   ],
   "source": [
    "train_json.keys()"
   ]
  },
  {
   "cell_type": "code",
   "execution_count": 6,
   "metadata": {},
   "outputs": [
    {
     "data": {
      "text/plain": [
       "[{'id': 0, 'name': 'General trash', 'supercategory': 'General trash'},\n",
       " {'id': 1, 'name': 'Paper', 'supercategory': 'Paper'},\n",
       " {'id': 2, 'name': 'Paper pack', 'supercategory': 'Paper pack'},\n",
       " {'id': 3, 'name': 'Metal', 'supercategory': 'Metal'},\n",
       " {'id': 4, 'name': 'Glass', 'supercategory': 'Glass'},\n",
       " {'id': 5, 'name': 'Plastic', 'supercategory': 'Plastic'},\n",
       " {'id': 6, 'name': 'Styrofoam', 'supercategory': 'Styrofoam'},\n",
       " {'id': 7, 'name': 'Plastic bag', 'supercategory': 'Plastic bag'},\n",
       " {'id': 8, 'name': 'Battery', 'supercategory': 'Battery'},\n",
       " {'id': 9, 'name': 'Clothing', 'supercategory': 'Clothing'}]"
      ]
     },
     "execution_count": 6,
     "metadata": {},
     "output_type": "execute_result"
    }
   ],
   "source": [
    "train_json['categories'] "
   ]
  },
  {
   "cell_type": "code",
   "execution_count": 7,
   "metadata": {},
   "outputs": [
    {
     "name": "stdout",
     "output_type": "stream",
     "text": [
      "class_names: ['General trash', 'Paper', 'Paper pack', 'Metal', 'Glass', 'Plastic', 'Styrofoam', 'Plastic bag', 'Battery', 'Clothing']\n"
     ]
    }
   ],
   "source": [
    "class_names = []\n",
    "for class_dict in train_json['categories']:\n",
    "    class_names.append(class_dict['name'])\n",
    "print(f\"class_names: {class_names}\")"
   ]
  },
  {
   "cell_type": "code",
   "execution_count": 8,
   "metadata": {},
   "outputs": [
    {
     "data": {
      "text/plain": [
       "{'image_id': 3,\n",
       " 'category_id': 2,\n",
       " 'area': 59550.94,\n",
       " 'bbox': [462.2, 369.4, 233.9, 254.6],\n",
       " 'iscrowd': 0,\n",
       " 'id': 10}"
      ]
     },
     "execution_count": 8,
     "metadata": {},
     "output_type": "execute_result"
    }
   ],
   "source": [
    "train_json['annotations'][10]"
   ]
  },
  {
   "cell_type": "code",
   "execution_count": 9,
   "metadata": {},
   "outputs": [
    {
     "name": "stdout",
     "output_type": "stream",
     "text": [
      "[8, {'General trash': 2, 'Paper': 0, 'Paper pack': 0, 'Metal': 1, 'Glass': 1, 'Plastic': 2, 'Styrofoam': 0, 'Plastic bag': 2, 'Battery': 0, 'Clothing': 0}]\n"
     ]
    }
   ],
   "source": [
    "objects_num = [[0, {'General trash':0, 'Paper':0, 'Paper pack':0, 'Metal':0, 'Glass':0, 'Plastic':0, 'Styrofoam':0, 'Plastic bag':0, 'Battery':0, 'Clothing':0}] for _ in range(4883)]\n",
    "for image_object in train_json['annotations']:\n",
    "    index = image_object['image_id']\n",
    "    objects_num[index][0] += 1\n",
    "    objects_num[index][1][class_names[image_object['category_id']]] += 1\n",
    "print(objects_num[1])"
   ]
  },
  {
   "cell_type": "code",
   "execution_count": 13,
   "metadata": {},
   "outputs": [
    {
     "name": "stdout",
     "output_type": "stream",
     "text": [
      "objects in 0 image: 1\n",
      "objects in 1 image: 8\n",
      "objects in 2 image: 1\n",
      "objects in 3 image: 2\n",
      "objects in 4 image: 6\n",
      "objects in 5 image: 22\n",
      "objects in 6 image: 1\n",
      "objects in 7 image: 2\n",
      "objects in 8 image: 7\n",
      "objects in 9 image: 1\n",
      "objects in 10 image: 1\n",
      "objects in 11 image: 1\n",
      "objects in 12 image: 3\n",
      "objects in 13 image: 16\n",
      "objects in 14 image: 5\n",
      "objects in 15 image: 3\n",
      "objects in 16 image: 1\n",
      "objects in 17 image: 1\n",
      "objects in 18 image: 11\n",
      "objects in 19 image: 10\n",
      "objects in 20 image: 1\n",
      "objects in 21 image: 10\n",
      "objects in 22 image: 2\n",
      "objects in 23 image: 1\n",
      "objects in 24 image: 1\n",
      "objects in 25 image: 1\n",
      "objects in 26 image: 2\n",
      "objects in 27 image: 3\n",
      "objects in 28 image: 4\n",
      "objects in 29 image: 5\n",
      "objects in 30 image: 1\n",
      "objects in 31 image: 3\n",
      "objects in 32 image: 14\n",
      "objects in 33 image: 2\n",
      "objects in 34 image: 1\n",
      "objects in 35 image: 1\n",
      "objects in 36 image: 3\n",
      "objects in 37 image: 1\n",
      "objects in 38 image: 14\n",
      "objects in 39 image: 1\n",
      "objects in 40 image: 1\n",
      "objects in 41 image: 4\n",
      "objects in 42 image: 22\n",
      "objects in 43 image: 3\n",
      "objects in 44 image: 3\n",
      "objects in 45 image: 19\n",
      "objects in 46 image: 2\n",
      "objects in 47 image: 1\n",
      "objects in 48 image: 1\n",
      "objects in 49 image: 2\n"
     ]
    }
   ],
   "source": [
    "for index, (value, objects) in enumerate(objects_num):\n",
    "    if 0 <= index and index < 50:\n",
    "        print(f\"objects in {index} image: {value}\")\n",
    "        # print(f\"objects in {index} image: {value} / objects: {objects}\")"
   ]
  },
  {
   "cell_type": "code",
   "execution_count": 15,
   "metadata": {},
   "outputs": [
    {
     "data": {
      "image/png": "[encoded data removed]",
      "text/plain": [
       "<Figure size 432x288 with 1 Axes>"
      ]
     },
     "metadata": {
      "needs_background": "light"
     },
     "output_type": "display_data"
    }
   ],
   "source": [
    "objects_num_list = [i[0] for i in objects_num]\n",
    "plt.hist(objects_num_list)\n",
    "plt.show()"
   ]
  },
  {
   "cell_type": "code",
   "execution_count": 11,
   "metadata": {},
   "outputs": [
    {
     "name": "stdout",
     "output_type": "stream",
     "text": [
      "{'General trash': 3966, 'Paper': 6352, 'Paper pack': 897, 'Metal': 936, 'Glass': 982, 'Plastic': 2943, 'Styrofoam': 1263, 'Plastic bag': 5178, 'Battery': 159, 'Clothing': 468}\n"
     ]
    }
   ],
   "source": [
    "object_dict = {'General trash':0, 'Paper':0, 'Paper pack':0, 'Metal':0, 'Glass':0, 'Plastic':0, 'Styrofoam':0, 'Plastic bag':0, 'Battery':0, 'Clothing':0}\n",
    "for image_object in train_json['annotations']:\n",
    "    object_dict[class_names[image_object['category_id']]] += 1\n",
    "print(object_dict)"
   ]
  },
  {
   "cell_type": "code",
   "execution_count": 12,
   "metadata": {},
   "outputs": [
    {
     "data": {
      "image/png": "[encoded data removed]",
      "text/plain": [
       "<Figure size 1008x576 with 1 Axes>"
      ]
     },
     "metadata": {
      "needs_background": "light"
     },
     "output_type": "display_data"
    }
   ],
   "source": [
    "values = [i for i in object_dict.values()]\n",
    "plt.figure(figsize=(14,8))\n",
    "plt.bar(np.arange(10), values)\n",
    "plt.xticks(np.arange(10), class_names)\n",
    "\n",
    "for index, value in enumerate(values):\n",
    "    plt.text(index, value, value,\n",
    "            horizontalalignment='center',\n",
    "            verticalalignment='bottom')\n",
    "\n",
    "plt.show()"
   ]
  }
 ],
 "metadata": {
  "kernelspec": {
   "display_name": "Python 3 (ipykernel)",
   "language": "python",
   "name": "python3"
  },
  "language_info": {
   "codemirror_mode": {
    "name": "ipython",
    "version": 3
   },
   "file_extension": ".py",
   "mimetype": "text/x-python",
   "name": "python",
   "nbconvert_exporter": "python",
   "pygments_lexer": "ipython3",
   "version": "3.7.11"
  }
 },
 "nbformat": 4,
 "nbformat_minor": 4
}
